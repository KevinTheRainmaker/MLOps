{
  "nbformat": 4,
  "nbformat_minor": 0,
  "metadata": {
    "colab": {
      "name": "Code_Quality_Control_1.ipynb",
      "provenance": [],
      "collapsed_sections": [],
      "authorship_tag": "ABX9TyPTaUiMZkSpHCUVPTOJ25WG",
      "include_colab_link": true
    },
    "kernelspec": {
      "name": "python3",
      "display_name": "Python 3"
    },
    "language_info": {
      "name": "python"
    }
  },
  "cells": [
    {
      "cell_type": "markdown",
      "metadata": {
        "id": "view-in-github",
        "colab_type": "text"
      },
      "source": [
        "<a href=\"https://colab.research.google.com/github/KevinTheRainmaker/MLOps/blob/main/colabs/Code_Quality_Control_1.ipynb\" target=\"_parent\"><img src=\"https://colab.research.google.com/assets/colab-badge.svg\" alt=\"Open In Colab\"/></a>"
      ]
    },
    {
      "cell_type": "markdown",
      "metadata": {
        "id": "7RrM_065_epz"
      },
      "source": [
        "# Automate The Research Code Quality Administration\n",
        "\n"
      ]
    },
    {
      "cell_type": "markdown",
      "metadata": {
        "id": "Su2dPjM4_6F4"
      },
      "source": [
        "## 1-1. Research Code Quality\n",
        "\n",
        "### 코드 품질 문제 유형\n",
        "1. 리서치 코드가 개인 로컬 환경에 저장되어 있음\n",
        "2. 코드 중복이 많음\n",
        "3. 연구 결과 재연 불가능\n",
        "4. 코드 악취 존재\n",
        "5. 낮은 코드 재사용성\n",
        "6. 불필요한 전역 변수 > 환경 변수 및 파라미터 사용 권장\n",
        "7. 너무 긴 코드, 명확하지 않은 변수명\n",
        "8. relative import(<-> absolute import)가 너무 난잡하게 사용되는 경우\n",
        "\n",
        "-> 매번 일일히 검사할 수 없으므로 정확한 룰과 Continuous Integration을 적용하여 지속적인 관리 자동화가 필요하다.\n"
      ]
    },
    {
      "cell_type": "markdown",
      "metadata": {
        "id": "WJ24Ag2tAGjl"
      },
      "source": [
        "## 1-2. Lint, Unit Test\n",
        "\n",
        "Lint란, 옷감의 보푸라기 등을 일컫는 말로, 코드에서는 잘못된 인덴테이션, 불필요한 변수 선언 등 코드의 가독성과 유지보수성을 떨어트리는 특징들을 말하며, 이를 제거하는 과정을 Linter, 혹은 그냥 줄여서 Lint라고 한다.\n",
        "\n",
        "\n",
        "### Code Formatter: `python black`"
      ]
    },
    {
      "cell_type": "code",
      "metadata": {
        "colab": {
          "base_uri": "https://localhost:8080/"
        },
        "id": "0zGMBaK-Dd75",
        "outputId": "6909a868-b799-483d-b4a8-9188c013b2c2"
      },
      "source": [
        "!pip install black"
      ],
      "execution_count": 1,
      "outputs": [
        {
          "output_type": "stream",
          "name": "stdout",
          "text": [
            "Collecting black\n",
            "  Downloading black-21.9b0-py3-none-any.whl (148 kB)\n",
            "\u001b[?25l\r\u001b[K     |██▏                             | 10 kB 18.4 MB/s eta 0:00:01\r\u001b[K     |████▍                           | 20 kB 14.5 MB/s eta 0:00:01\r\u001b[K     |██████▋                         | 30 kB 17.8 MB/s eta 0:00:01\r\u001b[K     |████████▉                       | 40 kB 20.6 MB/s eta 0:00:01\r\u001b[K     |███████████                     | 51 kB 7.1 MB/s eta 0:00:01\r\u001b[K     |█████████████▎                  | 61 kB 8.2 MB/s eta 0:00:01\r\u001b[K     |███████████████▌                | 71 kB 4.5 MB/s eta 0:00:01\r\u001b[K     |█████████████████▊              | 81 kB 5.1 MB/s eta 0:00:01\r\u001b[K     |████████████████████            | 92 kB 5.6 MB/s eta 0:00:01\r\u001b[K     |██████████████████████▏         | 102 kB 6.0 MB/s eta 0:00:01\r\u001b[K     |████████████████████████▎       | 112 kB 6.0 MB/s eta 0:00:01\r\u001b[K     |██████████████████████████▌     | 122 kB 6.0 MB/s eta 0:00:01\r\u001b[K     |████████████████████████████▊   | 133 kB 6.0 MB/s eta 0:00:01\r\u001b[K     |███████████████████████████████ | 143 kB 6.0 MB/s eta 0:00:01\r\u001b[K     |████████████████████████████████| 148 kB 6.0 MB/s \n",
            "\u001b[?25hCollecting mypy-extensions>=0.4.3\n",
            "  Downloading mypy_extensions-0.4.3-py2.py3-none-any.whl (4.5 kB)\n",
            "Collecting regex>=2020.1.8\n",
            "  Downloading regex-2021.10.8-cp37-cp37m-manylinux_2_17_x86_64.manylinux2014_x86_64.whl (748 kB)\n",
            "\u001b[K     |████████████████████████████████| 748 kB 49.7 MB/s \n",
            "\u001b[?25hRequirement already satisfied: tomli<2.0.0,>=0.2.6 in /usr/local/lib/python3.7/dist-packages (from black) (1.2.1)\n",
            "Collecting platformdirs>=2\n",
            "  Downloading platformdirs-2.4.0-py3-none-any.whl (14 kB)\n",
            "Collecting typed-ast>=1.4.2\n",
            "  Downloading typed_ast-1.4.3-cp37-cp37m-manylinux1_x86_64.whl (743 kB)\n",
            "\u001b[K     |████████████████████████████████| 743 kB 45.9 MB/s \n",
            "\u001b[?25hCollecting pathspec<1,>=0.9.0\n",
            "  Downloading pathspec-0.9.0-py2.py3-none-any.whl (31 kB)\n",
            "Collecting typing-extensions>=3.10.0.0\n",
            "  Downloading typing_extensions-3.10.0.2-py3-none-any.whl (26 kB)\n",
            "Requirement already satisfied: click>=7.1.2 in /usr/local/lib/python3.7/dist-packages (from black) (7.1.2)\n",
            "Installing collected packages: typing-extensions, typed-ast, regex, platformdirs, pathspec, mypy-extensions, black\n",
            "  Attempting uninstall: typing-extensions\n",
            "    Found existing installation: typing-extensions 3.7.4.3\n",
            "    Uninstalling typing-extensions-3.7.4.3:\n",
            "      Successfully uninstalled typing-extensions-3.7.4.3\n",
            "  Attempting uninstall: regex\n",
            "    Found existing installation: regex 2019.12.20\n",
            "    Uninstalling regex-2019.12.20:\n",
            "      Successfully uninstalled regex-2019.12.20\n",
            "\u001b[31mERROR: pip's dependency resolver does not currently take into account all the packages that are installed. This behaviour is the source of the following dependency conflicts.\n",
            "tensorflow 2.6.0 requires typing-extensions~=3.7.4, but you have typing-extensions 3.10.0.2 which is incompatible.\u001b[0m\n",
            "Successfully installed black-21.9b0 mypy-extensions-0.4.3 pathspec-0.9.0 platformdirs-2.4.0 regex-2021.10.8 typed-ast-1.4.3 typing-extensions-3.10.0.2\n"
          ]
        }
      ]
    },
    {
      "cell_type": "code",
      "metadata": {
        "id": "jseDhLuKDzGk"
      },
      "source": [
        "# Make messy code\n",
        "with open('black.py', 'w') as f:\n",
        "  f.write('''\n",
        "from seven_dwwarfs import Grumpy, Happy, Sleepy, Bashful, Sneezy, Dopey, Doc\n",
        "x = {  'a':37,'b':42,\n",
        "\n",
        "'c':927}\n",
        "\n",
        "x = 123456789.123456789E123456789\n",
        "\n",
        "if very_long_variable_name is not None and \\\n",
        " very_long_variable_name.field > 0 or \\\n",
        " very_long_variable_name.is_debug:\n",
        " z = 'hello '+'world'\n",
        "else:\n",
        " world = 'world'\n",
        " a = 'hello {}'.format(world)\n",
        " f = rf'hello {world}'\n",
        "if (this\n",
        "and that): y = 'hello ''world'#FIXME: https://github.com/python/black/issues/26\n",
        "class Foo  (     object  ):\n",
        "  def f    (self   ):\n",
        "    return       37*-2\n",
        "  def g(self, x,y=42):\n",
        "      return y\n",
        "def f  (   a: List[ int ]) :\n",
        "  return      37-a[42-u :  y**3]\n",
        "def very_important_function(template: str,*variables,file: os.PathLike,debug:bool=False,):\n",
        "    \"\"\"Applies `variables` to the `template` and writes to `file`.\"\"\"\n",
        "    with open(file, \"w\") as f:\n",
        "     ...\n",
        "\n",
        "regular_formatting = [\n",
        "    0,  1,  2,\n",
        "    3,  4,  5,\n",
        "    6,  7,  8,\n",
        "]\n",
        "''')"
      ],
      "execution_count": 7,
      "outputs": []
    },
    {
      "cell_type": "code",
      "metadata": {
        "colab": {
          "base_uri": "https://localhost:8080/"
        },
        "id": "wJ34HH4pDzB3",
        "outputId": "3e1f3c25-099d-490a-b6bd-4b82902ec5fa"
      },
      "source": [
        "!cat black.py"
      ],
      "execution_count": 8,
      "outputs": [
        {
          "output_type": "stream",
          "name": "stdout",
          "text": [
            "\n",
            "from seven_dwwarfs import Grumpy, Happy, Sleepy, Bashful, Sneezy, Dopey, Doc\n",
            "x = {  'a':37,'b':42,\n",
            "\n",
            "'c':927}\n",
            "\n",
            "x = 123456789.123456789E123456789\n",
            "\n",
            "if very_long_variable_name is not None and  very_long_variable_name.field > 0 or  very_long_variable_name.is_debug:\n",
            " z = 'hello '+'world'\n",
            "else:\n",
            " world = 'world'\n",
            " a = 'hello {}'.format(world)\n",
            " f = rf'hello {world}'\n",
            "if (this\n",
            "and that): y = 'hello ''world'#FIXME: https://github.com/python/black/issues/26\n",
            "class Foo  (     object  ):\n",
            "  def f    (self   ):\n",
            "    return       37*-2\n",
            "  def g(self, x,y=42):\n",
            "      return y\n",
            "def f  (   a: List[ int ]) :\n",
            "  return      37-a[42-u :  y**3]\n",
            "def very_important_function(template: str,*variables,file: os.PathLike,debug:bool=False,):\n",
            "    \"\"\"Applies `variables` to the `template` and writes to `file`.\"\"\"\n",
            "    with open(file, \"w\") as f:\n",
            "     ...\n",
            "\n",
            "regular_formatting = [\n",
            "    0,  1,  2,\n",
            "    3,  4,  5,\n",
            "    6,  7,  8,\n",
            "]\n"
          ]
        }
      ]
    },
    {
      "cell_type": "code",
      "metadata": {
        "colab": {
          "base_uri": "https://localhost:8080/"
        },
        "id": "MTApiwawDy9l",
        "outputId": "5d04aa74-833c-4ed3-dc15-78011b3d754e"
      },
      "source": [
        "# Check with black\n",
        "!black --check black.py"
      ],
      "execution_count": 9,
      "outputs": [
        {
          "output_type": "stream",
          "name": "stdout",
          "text": [
            "\u001b[1mwould reformat black.py\u001b[0m\n",
            "\u001b[1mOh no! 💥 💔 💥\u001b[0m\n",
            "\u001b[1m1 file would be reformatted\u001b[0m.\n"
          ]
        }
      ]
    },
    {
      "cell_type": "code",
      "metadata": {
        "colab": {
          "base_uri": "https://localhost:8080/"
        },
        "id": "wJf6ks66Dy3x",
        "outputId": "8f9c8a1b-f335-4e73-c1ae-903e3e0b63a8"
      },
      "source": [
        "# Auto formatting\n",
        "!black black.py"
      ],
      "execution_count": 10,
      "outputs": [
        {
          "output_type": "stream",
          "name": "stdout",
          "text": [
            "\u001b[1mreformatted black.py\u001b[0m\n",
            "\u001b[1mAll done! ✨ 🍰 ✨\u001b[0m\n",
            "\u001b[1m1 file reformatted\u001b[0m.\n"
          ]
        }
      ]
    },
    {
      "cell_type": "code",
      "metadata": {
        "colab": {
          "base_uri": "https://localhost:8080/"
        },
        "id": "6Rm4bQxfEwGi",
        "outputId": "72542f93-f2f3-4c31-d369-a510d9def04c"
      },
      "source": [
        "!cat black.py"
      ],
      "execution_count": 11,
      "outputs": [
        {
          "output_type": "stream",
          "name": "stdout",
          "text": [
            "from seven_dwwarfs import Grumpy, Happy, Sleepy, Bashful, Sneezy, Dopey, Doc\n",
            "\n",
            "x = {\"a\": 37, \"b\": 42, \"c\": 927}\n",
            "\n",
            "x = 123456789.123456789e123456789\n",
            "\n",
            "if (\n",
            "    very_long_variable_name is not None\n",
            "    and very_long_variable_name.field > 0\n",
            "    or very_long_variable_name.is_debug\n",
            "):\n",
            "    z = \"hello \" + \"world\"\n",
            "else:\n",
            "    world = \"world\"\n",
            "    a = \"hello {}\".format(world)\n",
            "    f = rf\"hello {world}\"\n",
            "if this and that:\n",
            "    y = \"hello \" \"world\"  # FIXME: https://github.com/python/black/issues/26\n",
            "\n",
            "\n",
            "class Foo(object):\n",
            "    def f(self):\n",
            "        return 37 * -2\n",
            "\n",
            "    def g(self, x, y=42):\n",
            "        return y\n",
            "\n",
            "\n",
            "def f(a: List[int]):\n",
            "    return 37 - a[42 - u : y ** 3]\n",
            "\n",
            "\n",
            "def very_important_function(\n",
            "    template: str,\n",
            "    *variables,\n",
            "    file: os.PathLike,\n",
            "    debug: bool = False,\n",
            "):\n",
            "    \"\"\"Applies `variables` to the `template` and writes to `file`.\"\"\"\n",
            "    with open(file, \"w\") as f:\n",
            "        ...\n",
            "\n",
            "\n",
            "regular_formatting = [\n",
            "    0,\n",
            "    1,\n",
            "    2,\n",
            "    3,\n",
            "    4,\n",
            "    5,\n",
            "    6,\n",
            "    7,\n",
            "    8,\n",
            "]\n"
          ]
        }
      ]
    },
    {
      "cell_type": "markdown",
      "metadata": {
        "id": "S9UpUbUwEv01"
      },
      "source": [
        "black으로 포매팅이 되었다."
      ]
    },
    {
      "cell_type": "markdown",
      "metadata": {
        "id": "fC4TuZI8AIzF"
      },
      "source": [
        "## 1-3. Continuous Integration (CI)\n",
        "\n",
        "소프트웨어 공학에서, 지속적 통합(Continuous Integration, CI)은 지속적으로 퀄리티 컨트롤을 적용하는 프로세스를 실행하는 것을 의미한다.\n",
        "\n",
        "모든 개발을 완료한 뒤에 퀄리티 컨트롤을 적용하는 고전적인 방법을 대체하는 방법으로서, 소프트웨어의 질적 향상과, 소프트웨어 배포에 걸리는 시간을 줄이는데 초점이 맞추어져 있다.\n",
        "\n",
        "\n",
        "## 대표적인 CI Tool: GitHub Actions"
      ]
    }
  ]
}