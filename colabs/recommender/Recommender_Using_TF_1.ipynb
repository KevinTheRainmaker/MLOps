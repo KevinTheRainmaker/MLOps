{
  "nbformat": 4,
  "nbformat_minor": 0,
  "metadata": {
    "colab": {
      "name": "Recommender_Using_TF_1.ipynb",
      "provenance": [],
      "collapsed_sections": [],
      "authorship_tag": "ABX9TyOg5UJ+BlNUF2KvrWH88IOF",
      "include_colab_link": true
    },
    "kernelspec": {
      "name": "python3",
      "display_name": "Python 3"
    },
    "language_info": {
      "name": "python"
    },
    "accelerator": "GPU",
    "widgets": {
      "application/vnd.jupyter.widget-state+json": {
        "454851a5fbfe482987f9ff06da64d1cd": {
          "model_module": "@jupyter-widgets/controls",
          "model_name": "VBoxModel",
          "model_module_version": "1.5.0",
          "state": {
            "_view_name": "VBoxView",
            "_dom_classes": [],
            "_model_name": "VBoxModel",
            "_view_module": "@jupyter-widgets/controls",
            "_model_module_version": "1.5.0",
            "_view_count": null,
            "_view_module_version": "1.5.0",
            "box_style": "",
            "layout": "IPY_MODEL_def205e980c741a983ed1e81edcd4288",
            "_model_module": "@jupyter-widgets/controls",
            "children": [
              "IPY_MODEL_1d874ee3178a4885a0e9fafa1fef4110",
              "IPY_MODEL_845d0295c1d649d5b14d35ddad6e56c1"
            ]
          }
        },
        "def205e980c741a983ed1e81edcd4288": {
          "model_module": "@jupyter-widgets/base",
          "model_name": "LayoutModel",
          "model_module_version": "1.2.0",
          "state": {
            "_view_name": "LayoutView",
            "grid_template_rows": null,
            "right": null,
            "justify_content": null,
            "_view_module": "@jupyter-widgets/base",
            "overflow": null,
            "_model_module_version": "1.2.0",
            "_view_count": null,
            "flex_flow": null,
            "width": null,
            "min_width": null,
            "border": null,
            "align_items": null,
            "bottom": null,
            "_model_module": "@jupyter-widgets/base",
            "top": null,
            "grid_column": null,
            "overflow_y": null,
            "overflow_x": null,
            "grid_auto_flow": null,
            "grid_area": null,
            "grid_template_columns": null,
            "flex": null,
            "_model_name": "LayoutModel",
            "justify_items": null,
            "grid_row": null,
            "max_height": null,
            "align_content": null,
            "visibility": null,
            "align_self": null,
            "height": null,
            "min_height": null,
            "padding": null,
            "grid_auto_rows": null,
            "grid_gap": null,
            "max_width": null,
            "order": null,
            "_view_module_version": "1.2.0",
            "grid_template_areas": null,
            "object_position": null,
            "object_fit": null,
            "grid_auto_columns": null,
            "margin": null,
            "display": null,
            "left": null
          }
        },
        "1d874ee3178a4885a0e9fafa1fef4110": {
          "model_module": "@jupyter-widgets/controls",
          "model_name": "LabelModel",
          "model_module_version": "1.5.0",
          "state": {
            "_view_name": "LabelView",
            "style": "IPY_MODEL_d587ee7b8ba74734b9ddbefa86cc376f",
            "_dom_classes": [],
            "description": "",
            "_model_name": "LabelModel",
            "placeholder": "​",
            "_view_module": "@jupyter-widgets/controls",
            "_model_module_version": "1.5.0",
            "value": " 0.01MB of 0.01MB uploaded (0.00MB deduped)\r",
            "_view_count": null,
            "_view_module_version": "1.5.0",
            "description_tooltip": null,
            "_model_module": "@jupyter-widgets/controls",
            "layout": "IPY_MODEL_14947d97b4634a5b8e037c20ab727080"
          }
        },
        "845d0295c1d649d5b14d35ddad6e56c1": {
          "model_module": "@jupyter-widgets/controls",
          "model_name": "FloatProgressModel",
          "model_module_version": "1.5.0",
          "state": {
            "_view_name": "ProgressView",
            "style": "IPY_MODEL_5f1e91fe880d4d84a6c4eb35bb8b77ec",
            "_dom_classes": [],
            "description": "",
            "_model_name": "FloatProgressModel",
            "bar_style": "",
            "max": 1,
            "_view_module": "@jupyter-widgets/controls",
            "_model_module_version": "1.5.0",
            "value": 1,
            "_view_count": null,
            "_view_module_version": "1.5.0",
            "orientation": "horizontal",
            "min": 0,
            "description_tooltip": null,
            "_model_module": "@jupyter-widgets/controls",
            "layout": "IPY_MODEL_37fc9742f199479c910e8822331ee291"
          }
        },
        "d587ee7b8ba74734b9ddbefa86cc376f": {
          "model_module": "@jupyter-widgets/controls",
          "model_name": "DescriptionStyleModel",
          "model_module_version": "1.5.0",
          "state": {
            "_view_name": "StyleView",
            "_model_name": "DescriptionStyleModel",
            "description_width": "",
            "_view_module": "@jupyter-widgets/base",
            "_model_module_version": "1.5.0",
            "_view_count": null,
            "_view_module_version": "1.2.0",
            "_model_module": "@jupyter-widgets/controls"
          }
        },
        "14947d97b4634a5b8e037c20ab727080": {
          "model_module": "@jupyter-widgets/base",
          "model_name": "LayoutModel",
          "model_module_version": "1.2.0",
          "state": {
            "_view_name": "LayoutView",
            "grid_template_rows": null,
            "right": null,
            "justify_content": null,
            "_view_module": "@jupyter-widgets/base",
            "overflow": null,
            "_model_module_version": "1.2.0",
            "_view_count": null,
            "flex_flow": null,
            "width": null,
            "min_width": null,
            "border": null,
            "align_items": null,
            "bottom": null,
            "_model_module": "@jupyter-widgets/base",
            "top": null,
            "grid_column": null,
            "overflow_y": null,
            "overflow_x": null,
            "grid_auto_flow": null,
            "grid_area": null,
            "grid_template_columns": null,
            "flex": null,
            "_model_name": "LayoutModel",
            "justify_items": null,
            "grid_row": null,
            "max_height": null,
            "align_content": null,
            "visibility": null,
            "align_self": null,
            "height": null,
            "min_height": null,
            "padding": null,
            "grid_auto_rows": null,
            "grid_gap": null,
            "max_width": null,
            "order": null,
            "_view_module_version": "1.2.0",
            "grid_template_areas": null,
            "object_position": null,
            "object_fit": null,
            "grid_auto_columns": null,
            "margin": null,
            "display": null,
            "left": null
          }
        },
        "5f1e91fe880d4d84a6c4eb35bb8b77ec": {
          "model_module": "@jupyter-widgets/controls",
          "model_name": "ProgressStyleModel",
          "model_module_version": "1.5.0",
          "state": {
            "_view_name": "StyleView",
            "_model_name": "ProgressStyleModel",
            "description_width": "",
            "_view_module": "@jupyter-widgets/base",
            "_model_module_version": "1.5.0",
            "_view_count": null,
            "_view_module_version": "1.2.0",
            "bar_color": null,
            "_model_module": "@jupyter-widgets/controls"
          }
        },
        "37fc9742f199479c910e8822331ee291": {
          "model_module": "@jupyter-widgets/base",
          "model_name": "LayoutModel",
          "model_module_version": "1.2.0",
          "state": {
            "_view_name": "LayoutView",
            "grid_template_rows": null,
            "right": null,
            "justify_content": null,
            "_view_module": "@jupyter-widgets/base",
            "overflow": null,
            "_model_module_version": "1.2.0",
            "_view_count": null,
            "flex_flow": null,
            "width": null,
            "min_width": null,
            "border": null,
            "align_items": null,
            "bottom": null,
            "_model_module": "@jupyter-widgets/base",
            "top": null,
            "grid_column": null,
            "overflow_y": null,
            "overflow_x": null,
            "grid_auto_flow": null,
            "grid_area": null,
            "grid_template_columns": null,
            "flex": null,
            "_model_name": "LayoutModel",
            "justify_items": null,
            "grid_row": null,
            "max_height": null,
            "align_content": null,
            "visibility": null,
            "align_self": null,
            "height": null,
            "min_height": null,
            "padding": null,
            "grid_auto_rows": null,
            "grid_gap": null,
            "max_width": null,
            "order": null,
            "_view_module_version": "1.2.0",
            "grid_template_areas": null,
            "object_position": null,
            "object_fit": null,
            "grid_auto_columns": null,
            "margin": null,
            "display": null,
            "left": null
          }
        }
      }
    }
  },
  "cells": [
    {
      "cell_type": "markdown",
      "metadata": {
        "id": "view-in-github",
        "colab_type": "text"
      },
      "source": [
        "<a href=\"https://colab.research.google.com/github/KevinTheRainmaker/MLOps/blob/main/colabs/recommender/Recommender_Using_TF_1.ipynb\" target=\"_parent\"><img src=\"https://colab.research.google.com/assets/colab-badge.svg\" alt=\"Open In Colab\"/></a>"
      ]
    },
    {
      "cell_type": "code",
      "metadata": {
        "id": "H76LPQ2ARCFF"
      },
      "source": [
        "!pip install -q tensorflow"
      ],
      "execution_count": 16,
      "outputs": []
    },
    {
      "cell_type": "code",
      "metadata": {
        "id": "sdFQvq3RRWkJ"
      },
      "source": [
        "! pip install -q tensorflow --upgrade --user"
      ],
      "execution_count": 36,
      "outputs": []
    },
    {
      "cell_type": "code",
      "metadata": {
        "id": "llo58hyTsxdS"
      },
      "source": [
        "!pip install -q tensorflow-recommenders"
      ],
      "execution_count": 37,
      "outputs": []
    },
    {
      "cell_type": "code",
      "metadata": {
        "id": "NjXB1TISs4sZ"
      },
      "source": [
        "!pip install -q --upgrade tensorflow-datasets"
      ],
      "execution_count": 38,
      "outputs": []
    },
    {
      "cell_type": "code",
      "metadata": {
        "id": "dECZWaDU1wA1"
      },
      "source": [
        "!pip install wandb -q"
      ],
      "execution_count": 39,
      "outputs": []
    },
    {
      "cell_type": "code",
      "metadata": {
        "id": "aJO4P6BA1xVR",
        "colab": {
          "base_uri": "https://localhost:8080/"
        },
        "outputId": "01b5b927-69ee-4a30-ef83-c6a5cff38cc2"
      },
      "source": [
        "!wandb login"
      ],
      "execution_count": 40,
      "outputs": [
        {
          "output_type": "stream",
          "name": "stdout",
          "text": [
            "\u001b[34m\u001b[1mwandb\u001b[0m: Currently logged in as: \u001b[33mkevin_rain\u001b[0m (use `wandb login --relogin` to force relogin)\n"
          ]
        }
      ]
    },
    {
      "cell_type": "code",
      "metadata": {
        "id": "3RPI2FQa2HLb",
        "colab": {
          "base_uri": "https://localhost:8080/",
          "height": 194,
          "referenced_widgets": [
            "454851a5fbfe482987f9ff06da64d1cd",
            "def205e980c741a983ed1e81edcd4288",
            "1d874ee3178a4885a0e9fafa1fef4110",
            "845d0295c1d649d5b14d35ddad6e56c1",
            "d587ee7b8ba74734b9ddbefa86cc376f",
            "14947d97b4634a5b8e037c20ab727080",
            "5f1e91fe880d4d84a6c4eb35bb8b77ec",
            "37fc9742f199479c910e8822331ee291"
          ]
        },
        "outputId": "1910486a-c7b3-44dc-ddbb-5b808d8e3553"
      },
      "source": [
        "import wandb\n",
        "\n",
        "wandb.init(project='wandb_recommender',\n",
        "           config={\n",
        "               'layer_1_activation':\"relu\",\n",
        "               'layer_1':256,\n",
        "               'layer_2_activation':\"relu\",\n",
        "               'layer_2':64,\n",
        "               'learning_rate':0.01,\n",
        "               'dropout_rate':0.2\n",
        "           })"
      ],
      "execution_count": 41,
      "outputs": [
        {
          "output_type": "display_data",
          "data": {
            "text/html": [
              "Finishing last run (ID:14bk1efo) before initializing another..."
            ],
            "text/plain": [
              "<IPython.core.display.HTML object>"
            ]
          },
          "metadata": {}
        },
        {
          "output_type": "display_data",
          "data": {
            "text/html": [
              "<br/>Waiting for W&B process to finish, PID 433... <strong style=\"color:green\">(success).</strong>"
            ],
            "text/plain": [
              "<IPython.core.display.HTML object>"
            ]
          },
          "metadata": {}
        },
        {
          "output_type": "display_data",
          "data": {
            "application/vnd.jupyter.widget-view+json": {
              "model_id": "454851a5fbfe482987f9ff06da64d1cd",
              "version_minor": 0,
              "version_major": 2
            },
            "text/plain": [
              "VBox(children=(Label(value=' 0.00MB of 0.00MB uploaded (0.00MB deduped)\\r'), FloatProgress(value=1.0, max=1.0)…"
            ]
          },
          "metadata": {}
        },
        {
          "output_type": "display_data",
          "data": {
            "text/html": [
              "<style>\n",
              "    table.wandb td:nth-child(1) { padding: 0 10px; text-align: right }\n",
              "    .wandb-row { display: flex; flex-direction: row; flex-wrap: wrap; width: 100% }\n",
              "    .wandb-col { display: flex; flex-direction: column; flex-basis: 100%; flex: 1; padding: 10px; }\n",
              "    </style>\n",
              "<div class=\"wandb-row\"><div class=\"wandb-col\">\n",
              "</div><div class=\"wandb-col\">\n",
              "</div></div>\n",
              "Synced 5 W&B file(s), 0 media file(s), 0 artifact file(s) and 0 other file(s)\n",
              "<br/>Synced <strong style=\"color:#cdcd00\">young-jazz-3</strong>: <a href=\"https://wandb.ai/kevin_rain/wandb_recommender/runs/14bk1efo\" target=\"_blank\">https://wandb.ai/kevin_rain/wandb_recommender/runs/14bk1efo</a><br/>\n",
              "Find logs at: <code>./wandb/run-20211018_071900-14bk1efo/logs</code><br/>\n"
            ],
            "text/plain": [
              "<IPython.core.display.HTML object>"
            ]
          },
          "metadata": {}
        },
        {
          "output_type": "display_data",
          "data": {
            "text/html": [
              "Successfully finished last run (ID:14bk1efo). Initializing new run:<br/>"
            ],
            "text/plain": [
              "<IPython.core.display.HTML object>"
            ]
          },
          "metadata": {}
        },
        {
          "output_type": "display_data",
          "data": {
            "text/html": [
              "\n",
              "                    Syncing run <strong><a href=\"https://wandb.ai/kevin_rain/wandb_recommender/runs/35pg9el4\" target=\"_blank\">ethereal-tree-4</a></strong> to <a href=\"https://wandb.ai/kevin_rain/wandb_recommender\" target=\"_blank\">Weights & Biases</a> (<a href=\"https://docs.wandb.com/integrations/jupyter.html\" target=\"_blank\">docs</a>).<br/>\n",
              "\n",
              "                "
            ],
            "text/plain": [
              "<IPython.core.display.HTML object>"
            ]
          },
          "metadata": {}
        },
        {
          "output_type": "execute_result",
          "data": {
            "text/plain": [
              "<wandb.sdk.wandb_run.Run at 0x7f7ff2b98250>"
            ],
            "text/html": [
              "<button onClick=\"this.nextSibling.style.display='block';this.style.display='none';\">Display W&B run</button><iframe src=\"https://wandb.ai/kevin_rain/wandb_recommender/runs/35pg9el4?jupyter=true\" style=\"border:none;width:100%;height:420px;display:none;\"></iframe>"
            ]
          },
          "metadata": {},
          "execution_count": 41
        }
      ]
    },
    {
      "cell_type": "code",
      "metadata": {
        "id": "AGoU56Oq2NIx"
      },
      "source": [
        "config = wandb.config"
      ],
      "execution_count": 42,
      "outputs": []
    },
    {
      "cell_type": "code",
      "metadata": {
        "id": "I859qMh-2NC5"
      },
      "source": [
        "from wandb.keras import WandbCallback"
      ],
      "execution_count": 43,
      "outputs": []
    },
    {
      "cell_type": "code",
      "metadata": {
        "colab": {
          "base_uri": "https://localhost:8080/"
        },
        "id": "rBZ9hJ_ts6lz",
        "outputId": "1e56b402-e11a-467e-8031-d85ae7cd174f"
      },
      "source": [
        "import os\n",
        "import pprint\n",
        "import tempfile\n",
        "\n",
        "from typing import Dict, Text\n",
        "\n",
        "import numpy as np\n",
        "import tensorflow as tf\n",
        "import tensorflow_datasets as tfds\n",
        "import tensorflow_recommenders as tfrs\n",
        "\n",
        "print(tf.__version__)"
      ],
      "execution_count": 44,
      "outputs": [
        {
          "output_type": "stream",
          "name": "stdout",
          "text": [
            "2.6.0\n"
          ]
        }
      ]
    },
    {
      "cell_type": "code",
      "metadata": {
        "colab": {
          "base_uri": "https://localhost:8080/"
        },
        "id": "cuMiNQzAtHKG",
        "outputId": "bafeafb5-1c25-4603-80eb-d44506e18f3c"
      },
      "source": [
        "ratings_raw = tfds.load(\"movielens/100k-ratings\", split=\"train\")\n",
        "print(ratings_raw)"
      ],
      "execution_count": 45,
      "outputs": [
        {
          "output_type": "stream",
          "name": "stdout",
          "text": [
            "<PrefetchDataset shapes: {bucketized_user_age: (), movie_genres: (None,), movie_id: (), movie_title: (), raw_user_age: (), timestamp: (), user_gender: (), user_id: (), user_occupation_label: (), user_occupation_text: (), user_rating: (), user_zip_code: ()}, types: {bucketized_user_age: tf.float32, movie_genres: tf.int64, movie_id: tf.string, movie_title: tf.string, raw_user_age: tf.float32, timestamp: tf.int64, user_gender: tf.bool, user_id: tf.string, user_occupation_label: tf.int64, user_occupation_text: tf.string, user_rating: tf.float32, user_zip_code: tf.string}>\n"
          ]
        }
      ]
    },
    {
      "cell_type": "code",
      "metadata": {
        "id": "78eYWd0-wPup"
      },
      "source": [
        "ratings = ratings_raw.map(lambda x: {\n",
        "    \"movie_title\": x[\"movie_title\"],\n",
        "    \"user_id\": x[\"user_id\"],\n",
        "    \"user_rating\": x[\"user_rating\"]\n",
        "})"
      ],
      "execution_count": 46,
      "outputs": []
    },
    {
      "cell_type": "code",
      "metadata": {
        "id": "wM6crU_ftOsK"
      },
      "source": [
        "shuffled = ratings.shuffle(100_000, reshuffle_each_iteration=False)\n",
        "\n",
        "train = shuffled.take(80_000)\n",
        "test = shuffled.skip(80_000).take(20_000)"
      ],
      "execution_count": 47,
      "outputs": []
    },
    {
      "cell_type": "code",
      "metadata": {
        "id": "CU8hrE7mt2sQ"
      },
      "source": [
        "movie_titles = ratings.batch(1_000_000).map(lambda x: x[\"movie_title\"])\n",
        "user_ids = ratings.batch(1_000_000).map(lambda x: x[\"user_id\"])\n",
        "\n",
        "unique_movie_titles = np.unique(np.concatenate(list(movie_titles)))\n",
        "unique_user_ids = np.unique(np.concatenate(list(user_ids)))"
      ],
      "execution_count": 48,
      "outputs": []
    },
    {
      "cell_type": "code",
      "metadata": {
        "id": "ynfjgc0ht64W"
      },
      "source": [
        "class RankingModel(tf.keras.Model):\n",
        "\n",
        "  def __init__(self):\n",
        "    super().__init__()\n",
        "    embedding_dimension = 32\n",
        "\n",
        "    # Compute embeddings for users.\n",
        "    self.user_embeddings = tf.keras.Sequential([\n",
        "      tf.keras.layers.StringLookup(\n",
        "        vocabulary=unique_user_ids, mask_token=None),\n",
        "      tf.keras.layers.Embedding(len(unique_user_ids) + 1, embedding_dimension)\n",
        "    ])\n",
        "\n",
        "    # Compute embeddings for movies.\n",
        "    self.movie_embeddings = tf.keras.Sequential([\n",
        "      tf.keras.layers.StringLookup(\n",
        "        vocabulary=unique_movie_titles, mask_token=None),\n",
        "      tf.keras.layers.Embedding(len(unique_movie_titles) + 1, embedding_dimension)\n",
        "    ])\n",
        "\n",
        "    # Compute predictions.\n",
        "    self.ratings = tf.keras.Sequential([\n",
        "      # Learn multiple dense layers.\n",
        "      tf.keras.layers.Dense(256, activation='relu'),\n",
        "      # tf.keras.layers.Dense(config.layer_1, activation=config.layer_1_activation),\n",
        "      tf.keras.layers.Dense(64, activation='relu'),\n",
        "      # tf.keras.layers.Dense(config.layer_2, activation=config.layer_2_activation),\n",
        "      tf.keras.layers.Dropout(0.2),\n",
        "      # Make rating predictions in the final layer.\n",
        "      tf.keras.layers.Dense(1)\n",
        "  ])\n",
        "\n",
        "  def call(self, inputs):\n",
        "\n",
        "    user_id, movie_title = inputs\n",
        "\n",
        "    user_embedding = self.user_embeddings(user_id)\n",
        "    movie_embedding = self.movie_embeddings(movie_title)\n",
        "\n",
        "    return self.ratings(tf.concat([user_embedding, movie_embedding], axis=1))"
      ],
      "execution_count": 49,
      "outputs": []
    },
    {
      "cell_type": "code",
      "metadata": {
        "colab": {
          "base_uri": "https://localhost:8080/",
          "height": 283
        },
        "id": "ZDShxAUQuFgP",
        "outputId": "b52cfea8-f678-4184-bb90-028157323479"
      },
      "source": [
        "RankingModel()(([\"1\"], [\"One Flew Over the Cuckoo's Nest (1975)\"]))"
      ],
      "execution_count": 50,
      "outputs": [
        {
          "output_type": "error",
          "ename": "AttributeError",
          "evalue": "ignored",
          "traceback": [
            "\u001b[0;31m---------------------------------------------------------------------------\u001b[0m",
            "\u001b[0;31mAttributeError\u001b[0m                            Traceback (most recent call last)",
            "\u001b[0;32m<ipython-input-50-73b96ee86418>\u001b[0m in \u001b[0;36m<module>\u001b[0;34m()\u001b[0m\n\u001b[0;32m----> 1\u001b[0;31m \u001b[0mRankingModel\u001b[0m\u001b[0;34m(\u001b[0m\u001b[0;34m)\u001b[0m\u001b[0;34m(\u001b[0m\u001b[0;34m(\u001b[0m\u001b[0;34m[\u001b[0m\u001b[0;34m\"1\"\u001b[0m\u001b[0;34m]\u001b[0m\u001b[0;34m,\u001b[0m \u001b[0;34m[\u001b[0m\u001b[0;34m\"One Flew Over the Cuckoo's Nest (1975)\"\u001b[0m\u001b[0;34m]\u001b[0m\u001b[0;34m)\u001b[0m\u001b[0;34m)\u001b[0m\u001b[0;34m\u001b[0m\u001b[0;34m\u001b[0m\u001b[0m\n\u001b[0m",
            "\u001b[0;32m<ipython-input-49-26229b126af8>\u001b[0m in \u001b[0;36m__init__\u001b[0;34m(self)\u001b[0m\n\u001b[1;32m      7\u001b[0m     \u001b[0;31m# Compute embeddings for users.\u001b[0m\u001b[0;34m\u001b[0m\u001b[0;34m\u001b[0m\u001b[0;34m\u001b[0m\u001b[0m\n\u001b[1;32m      8\u001b[0m     self.user_embeddings = tf.keras.Sequential([\n\u001b[0;32m----> 9\u001b[0;31m       tf.keras.layers.StringLookup(\n\u001b[0m\u001b[1;32m     10\u001b[0m         vocabulary=unique_user_ids, mask_token=None),\n\u001b[1;32m     11\u001b[0m       \u001b[0mtf\u001b[0m\u001b[0;34m.\u001b[0m\u001b[0mkeras\u001b[0m\u001b[0;34m.\u001b[0m\u001b[0mlayers\u001b[0m\u001b[0;34m.\u001b[0m\u001b[0mEmbedding\u001b[0m\u001b[0;34m(\u001b[0m\u001b[0mlen\u001b[0m\u001b[0;34m(\u001b[0m\u001b[0munique_user_ids\u001b[0m\u001b[0;34m)\u001b[0m \u001b[0;34m+\u001b[0m \u001b[0;36m1\u001b[0m\u001b[0;34m,\u001b[0m \u001b[0membedding_dimension\u001b[0m\u001b[0;34m)\u001b[0m\u001b[0;34m\u001b[0m\u001b[0;34m\u001b[0m\u001b[0m\n",
            "\u001b[0;31mAttributeError\u001b[0m: module 'tensorflow.keras.layers' has no attribute 'StringLookup'"
          ]
        }
      ]
    },
    {
      "cell_type": "code",
      "metadata": {
        "id": "dT0TNRgHuMqm"
      },
      "source": [
        "task = tfrs.tasks.Ranking(\n",
        "  loss = tf.keras.losses.MeanSquaredError(),\n",
        "  metrics=[tf.keras.metrics.RootMeanSquaredError()]\n",
        ")"
      ],
      "execution_count": null,
      "outputs": []
    },
    {
      "cell_type": "code",
      "metadata": {
        "id": "lwkKlD4juPqP"
      },
      "source": [
        ""
      ],
      "execution_count": null,
      "outputs": []
    },
    {
      "cell_type": "code",
      "metadata": {
        "id": "b8JP7KESui8k"
      },
      "source": [
        ""
      ],
      "execution_count": null,
      "outputs": []
    },
    {
      "cell_type": "markdown",
      "metadata": {
        "id": "QMSYeOu7GpAo"
      },
      "source": [
        "# Compact"
      ]
    },
    {
      "cell_type": "code",
      "metadata": {
        "id": "csL94S0pui3B"
      },
      "source": [
        "class MovielensModel(tfrs.models.Model):\n",
        "\n",
        "  def __init__(self):\n",
        "    super().__init__()\n",
        "    self.ranking_model: tf.keras.Model = RankingModel()\n",
        "    self.task: tf.keras.layers.Layer = tfrs.tasks.Ranking(\n",
        "      loss = tf.keras.losses.MeanSquaredError(),\n",
        "      metrics=[tf.keras.metrics.RootMeanSquaredError()]\n",
        "    )\n",
        "\n",
        "  def call(self, features: Dict[str, tf.Tensor]) -> tf.Tensor:\n",
        "    return self.ranking_model(\n",
        "        (features[\"user_id\"], features[\"movie_title\"]))\n",
        "\n",
        "  def compute_loss(self, features: Dict[Text, tf.Tensor], training=False) -> tf.Tensor:\n",
        "    labels = features.pop(\"user_rating\")\n",
        "\n",
        "    rating_predictions = self(features)\n",
        "\n",
        "    # The task computes the loss and the metrics.\n",
        "    return self.task(labels=labels, predictions=rating_predictions)"
      ],
      "execution_count": null,
      "outputs": []
    },
    {
      "cell_type": "code",
      "metadata": {
        "id": "4roNFszqukY0"
      },
      "source": [
        "model = MovielensModel()\n",
        "model.compile(optimizer=tf.keras.optimizers.Adagrad(learning_rate=0.01))"
      ],
      "execution_count": null,
      "outputs": []
    },
    {
      "cell_type": "code",
      "metadata": {
        "id": "JH-aUnmtunxu"
      },
      "source": [
        "cached_train = train.shuffle(100_000).batch(4096).cache()\n",
        "cached_test = test.batch(2048).cache()"
      ],
      "execution_count": null,
      "outputs": []
    },
    {
      "cell_type": "code",
      "metadata": {
        "colab": {
          "base_uri": "https://localhost:8080/"
        },
        "id": "ceKXt3cwupuy",
        "outputId": "a92c377a-df54-48be-988b-dcf867f758ca"
      },
      "source": [
        "model.fit(cached_train, epochs=100)"
      ],
      "execution_count": null,
      "outputs": [
        {
          "output_type": "stream",
          "name": "stdout",
          "text": [
            "Epoch 1/100\n",
            "20/20 [==============================] - 5s 39ms/step - root_mean_squared_error: 2.7268 - loss: 7.0490 - regularization_loss: 0.0000e+00 - total_loss: 7.0490\n",
            "Epoch 2/100\n",
            "20/20 [==============================] - 1s 27ms/step - root_mean_squared_error: 1.1553 - loss: 1.3275 - regularization_loss: 0.0000e+00 - total_loss: 1.3275\n",
            "Epoch 3/100\n",
            "20/20 [==============================] - 1s 29ms/step - root_mean_squared_error: 1.1229 - loss: 1.2586 - regularization_loss: 0.0000e+00 - total_loss: 1.2586\n",
            "Epoch 4/100\n",
            "20/20 [==============================] - 1s 28ms/step - root_mean_squared_error: 1.1206 - loss: 1.2534 - regularization_loss: 0.0000e+00 - total_loss: 1.2534\n",
            "Epoch 5/100\n",
            "20/20 [==============================] - 1s 29ms/step - root_mean_squared_error: 1.1182 - loss: 1.2482 - regularization_loss: 0.0000e+00 - total_loss: 1.2482\n",
            "Epoch 6/100\n",
            "20/20 [==============================] - 1s 29ms/step - root_mean_squared_error: 1.1157 - loss: 1.2426 - regularization_loss: 0.0000e+00 - total_loss: 1.2426\n",
            "Epoch 7/100\n",
            "20/20 [==============================] - 1s 28ms/step - root_mean_squared_error: 1.1130 - loss: 1.2367 - regularization_loss: 0.0000e+00 - total_loss: 1.2367\n",
            "Epoch 8/100\n",
            "20/20 [==============================] - 1s 29ms/step - root_mean_squared_error: 1.1101 - loss: 1.2302 - regularization_loss: 0.0000e+00 - total_loss: 1.2302\n",
            "Epoch 9/100\n",
            "20/20 [==============================] - 1s 28ms/step - root_mean_squared_error: 1.1069 - loss: 1.2230 - regularization_loss: 0.0000e+00 - total_loss: 1.2230\n",
            "Epoch 10/100\n",
            "20/20 [==============================] - 1s 29ms/step - root_mean_squared_error: 1.1033 - loss: 1.2151 - regularization_loss: 0.0000e+00 - total_loss: 1.2151\n",
            "Epoch 11/100\n",
            "20/20 [==============================] - 1s 29ms/step - root_mean_squared_error: 1.0993 - loss: 1.2064 - regularization_loss: 0.0000e+00 - total_loss: 1.2064\n",
            "Epoch 12/100\n",
            "20/20 [==============================] - 1s 28ms/step - root_mean_squared_error: 1.0950 - loss: 1.1968 - regularization_loss: 0.0000e+00 - total_loss: 1.1968\n",
            "Epoch 13/100\n",
            "20/20 [==============================] - 1s 29ms/step - root_mean_squared_error: 1.0902 - loss: 1.1865 - regularization_loss: 0.0000e+00 - total_loss: 1.1865\n",
            "Epoch 14/100\n",
            "20/20 [==============================] - 1s 28ms/step - root_mean_squared_error: 1.0851 - loss: 1.1755 - regularization_loss: 0.0000e+00 - total_loss: 1.1755\n",
            "Epoch 15/100\n",
            "20/20 [==============================] - 1s 29ms/step - root_mean_squared_error: 1.0797 - loss: 1.1638 - regularization_loss: 0.0000e+00 - total_loss: 1.1638\n",
            "Epoch 16/100\n",
            "20/20 [==============================] - 1s 29ms/step - root_mean_squared_error: 1.0741 - loss: 1.1517 - regularization_loss: 0.0000e+00 - total_loss: 1.1517\n",
            "Epoch 17/100\n",
            "20/20 [==============================] - 1s 29ms/step - root_mean_squared_error: 1.0682 - loss: 1.1391 - regularization_loss: 0.0000e+00 - total_loss: 1.1391\n",
            "Epoch 18/100\n",
            "20/20 [==============================] - 1s 28ms/step - root_mean_squared_error: 1.0621 - loss: 1.1263 - regularization_loss: 0.0000e+00 - total_loss: 1.1263\n",
            "Epoch 19/100\n",
            "20/20 [==============================] - 1s 30ms/step - root_mean_squared_error: 1.0560 - loss: 1.1132 - regularization_loss: 0.0000e+00 - total_loss: 1.1132\n",
            "Epoch 20/100\n",
            "20/20 [==============================] - 1s 27ms/step - root_mean_squared_error: 1.0497 - loss: 1.1001 - regularization_loss: 0.0000e+00 - total_loss: 1.1001\n",
            "Epoch 21/100\n",
            "20/20 [==============================] - 1s 28ms/step - root_mean_squared_error: 1.0434 - loss: 1.0869 - regularization_loss: 0.0000e+00 - total_loss: 1.0869\n",
            "Epoch 22/100\n",
            "20/20 [==============================] - 1s 28ms/step - root_mean_squared_error: 1.0371 - loss: 1.0739 - regularization_loss: 0.0000e+00 - total_loss: 1.0739\n",
            "Epoch 23/100\n",
            "20/20 [==============================] - 1s 29ms/step - root_mean_squared_error: 1.0309 - loss: 1.0611 - regularization_loss: 0.0000e+00 - total_loss: 1.0611\n",
            "Epoch 24/100\n",
            "20/20 [==============================] - 1s 29ms/step - root_mean_squared_error: 1.0248 - loss: 1.0486 - regularization_loss: 0.0000e+00 - total_loss: 1.0486\n",
            "Epoch 25/100\n",
            "20/20 [==============================] - 1s 29ms/step - root_mean_squared_error: 1.0190 - loss: 1.0366 - regularization_loss: 0.0000e+00 - total_loss: 1.0366\n",
            "Epoch 26/100\n",
            "20/20 [==============================] - 1s 29ms/step - root_mean_squared_error: 1.0133 - loss: 1.0252 - regularization_loss: 0.0000e+00 - total_loss: 1.0252\n",
            "Epoch 27/100\n",
            "20/20 [==============================] - 1s 28ms/step - root_mean_squared_error: 1.0079 - loss: 1.0143 - regularization_loss: 0.0000e+00 - total_loss: 1.0143\n",
            "Epoch 28/100\n",
            "20/20 [==============================] - 1s 30ms/step - root_mean_squared_error: 1.0028 - loss: 1.0039 - regularization_loss: 0.0000e+00 - total_loss: 1.0039\n",
            "Epoch 29/100\n",
            "20/20 [==============================] - 1s 27ms/step - root_mean_squared_error: 0.9979 - loss: 0.9942 - regularization_loss: 0.0000e+00 - total_loss: 0.9942\n",
            "Epoch 30/100\n",
            "20/20 [==============================] - 1s 28ms/step - root_mean_squared_error: 0.9933 - loss: 0.9851 - regularization_loss: 0.0000e+00 - total_loss: 0.9851\n",
            "Epoch 31/100\n",
            "20/20 [==============================] - 1s 28ms/step - root_mean_squared_error: 0.9890 - loss: 0.9765 - regularization_loss: 0.0000e+00 - total_loss: 0.9765\n",
            "Epoch 32/100\n",
            "20/20 [==============================] - 1s 27ms/step - root_mean_squared_error: 0.9849 - loss: 0.9685 - regularization_loss: 0.0000e+00 - total_loss: 0.9685\n",
            "Epoch 33/100\n",
            "20/20 [==============================] - 1s 28ms/step - root_mean_squared_error: 0.9811 - loss: 0.9611 - regularization_loss: 0.0000e+00 - total_loss: 0.9611\n",
            "Epoch 34/100\n",
            "20/20 [==============================] - 1s 27ms/step - root_mean_squared_error: 0.9776 - loss: 0.9542 - regularization_loss: 0.0000e+00 - total_loss: 0.9542\n",
            "Epoch 35/100\n",
            "20/20 [==============================] - 1s 28ms/step - root_mean_squared_error: 0.9743 - loss: 0.9478 - regularization_loss: 0.0000e+00 - total_loss: 0.9478\n",
            "Epoch 36/100\n",
            "20/20 [==============================] - 1s 28ms/step - root_mean_squared_error: 0.9712 - loss: 0.9418 - regularization_loss: 0.0000e+00 - total_loss: 0.9418\n",
            "Epoch 37/100\n",
            "20/20 [==============================] - 1s 27ms/step - root_mean_squared_error: 0.9684 - loss: 0.9362 - regularization_loss: 0.0000e+00 - total_loss: 0.9362\n",
            "Epoch 38/100\n",
            "20/20 [==============================] - 1s 28ms/step - root_mean_squared_error: 0.9657 - loss: 0.9310 - regularization_loss: 0.0000e+00 - total_loss: 0.9310\n",
            "Epoch 39/100\n",
            "20/20 [==============================] - 1s 28ms/step - root_mean_squared_error: 0.9632 - loss: 0.9261 - regularization_loss: 0.0000e+00 - total_loss: 0.9261\n",
            "Epoch 40/100\n",
            "20/20 [==============================] - 1s 28ms/step - root_mean_squared_error: 0.9608 - loss: 0.9216 - regularization_loss: 0.0000e+00 - total_loss: 0.9216\n",
            "Epoch 41/100\n",
            "20/20 [==============================] - 1s 27ms/step - root_mean_squared_error: 0.9586 - loss: 0.9173 - regularization_loss: 0.0000e+00 - total_loss: 0.9173\n",
            "Epoch 42/100\n",
            "20/20 [==============================] - 1s 28ms/step - root_mean_squared_error: 0.9565 - loss: 0.9133 - regularization_loss: 0.0000e+00 - total_loss: 0.9133\n",
            "Epoch 43/100\n",
            "20/20 [==============================] - 1s 28ms/step - root_mean_squared_error: 0.9545 - loss: 0.9095 - regularization_loss: 0.0000e+00 - total_loss: 0.9095\n",
            "Epoch 44/100\n",
            "20/20 [==============================] - 1s 29ms/step - root_mean_squared_error: 0.9527 - loss: 0.9060 - regularization_loss: 0.0000e+00 - total_loss: 0.9060\n",
            "Epoch 45/100\n",
            "20/20 [==============================] - 1s 28ms/step - root_mean_squared_error: 0.9509 - loss: 0.9026 - regularization_loss: 0.0000e+00 - total_loss: 0.9026\n",
            "Epoch 46/100\n",
            "20/20 [==============================] - 1s 28ms/step - root_mean_squared_error: 0.9493 - loss: 0.8995 - regularization_loss: 0.0000e+00 - total_loss: 0.8995\n",
            "Epoch 47/100\n",
            "20/20 [==============================] - 1s 28ms/step - root_mean_squared_error: 0.9477 - loss: 0.8965 - regularization_loss: 0.0000e+00 - total_loss: 0.8965\n",
            "Epoch 48/100\n",
            "20/20 [==============================] - 1s 28ms/step - root_mean_squared_error: 0.9462 - loss: 0.8936 - regularization_loss: 0.0000e+00 - total_loss: 0.8936\n",
            "Epoch 49/100\n",
            "20/20 [==============================] - 1s 28ms/step - root_mean_squared_error: 0.9448 - loss: 0.8910 - regularization_loss: 0.0000e+00 - total_loss: 0.8910\n",
            "Epoch 50/100\n",
            "20/20 [==============================] - 1s 27ms/step - root_mean_squared_error: 0.9435 - loss: 0.8884 - regularization_loss: 0.0000e+00 - total_loss: 0.8884\n",
            "Epoch 51/100\n",
            "20/20 [==============================] - 1s 28ms/step - root_mean_squared_error: 0.9422 - loss: 0.8860 - regularization_loss: 0.0000e+00 - total_loss: 0.8860\n",
            "Epoch 52/100\n",
            "20/20 [==============================] - 1s 28ms/step - root_mean_squared_error: 0.9410 - loss: 0.8837 - regularization_loss: 0.0000e+00 - total_loss: 0.8837\n",
            "Epoch 53/100\n",
            "20/20 [==============================] - 1s 28ms/step - root_mean_squared_error: 0.9399 - loss: 0.8816 - regularization_loss: 0.0000e+00 - total_loss: 0.8816\n",
            "Epoch 54/100\n",
            "20/20 [==============================] - 1s 28ms/step - root_mean_squared_error: 0.9388 - loss: 0.8795 - regularization_loss: 0.0000e+00 - total_loss: 0.8795\n",
            "Epoch 55/100\n",
            "20/20 [==============================] - 1s 28ms/step - root_mean_squared_error: 0.9377 - loss: 0.8775 - regularization_loss: 0.0000e+00 - total_loss: 0.8775\n",
            "Epoch 56/100\n",
            "20/20 [==============================] - 1s 28ms/step - root_mean_squared_error: 0.9367 - loss: 0.8757 - regularization_loss: 0.0000e+00 - total_loss: 0.8757\n",
            "Epoch 57/100\n",
            "20/20 [==============================] - 1s 27ms/step - root_mean_squared_error: 0.9358 - loss: 0.8739 - regularization_loss: 0.0000e+00 - total_loss: 0.8739\n",
            "Epoch 58/100\n",
            "20/20 [==============================] - 1s 28ms/step - root_mean_squared_error: 0.9349 - loss: 0.8722 - regularization_loss: 0.0000e+00 - total_loss: 0.8722\n",
            "Epoch 59/100\n",
            "20/20 [==============================] - 1s 27ms/step - root_mean_squared_error: 0.9341 - loss: 0.8706 - regularization_loss: 0.0000e+00 - total_loss: 0.8706\n",
            "Epoch 60/100\n",
            "20/20 [==============================] - 1s 31ms/step - root_mean_squared_error: 0.9332 - loss: 0.8691 - regularization_loss: 0.0000e+00 - total_loss: 0.8691\n",
            "Epoch 61/100\n",
            "20/20 [==============================] - 1s 28ms/step - root_mean_squared_error: 0.9325 - loss: 0.8676 - regularization_loss: 0.0000e+00 - total_loss: 0.8676\n",
            "Epoch 62/100\n",
            "20/20 [==============================] - 1s 27ms/step - root_mean_squared_error: 0.9317 - loss: 0.8662 - regularization_loss: 0.0000e+00 - total_loss: 0.8662\n",
            "Epoch 63/100\n",
            "20/20 [==============================] - 1s 27ms/step - root_mean_squared_error: 0.9310 - loss: 0.8648 - regularization_loss: 0.0000e+00 - total_loss: 0.8648\n",
            "Epoch 64/100\n",
            "20/20 [==============================] - 1s 28ms/step - root_mean_squared_error: 0.9303 - loss: 0.8636 - regularization_loss: 0.0000e+00 - total_loss: 0.8636\n",
            "Epoch 65/100\n",
            "20/20 [==============================] - 1s 28ms/step - root_mean_squared_error: 0.9297 - loss: 0.8623 - regularization_loss: 0.0000e+00 - total_loss: 0.8623\n",
            "Epoch 66/100\n",
            "20/20 [==============================] - 1s 27ms/step - root_mean_squared_error: 0.9291 - loss: 0.8612 - regularization_loss: 0.0000e+00 - total_loss: 0.8612\n",
            "Epoch 67/100\n",
            "20/20 [==============================] - 1s 29ms/step - root_mean_squared_error: 0.9285 - loss: 0.8601 - regularization_loss: 0.0000e+00 - total_loss: 0.8601\n",
            "Epoch 68/100\n",
            "20/20 [==============================] - 1s 28ms/step - root_mean_squared_error: 0.9279 - loss: 0.8590 - regularization_loss: 0.0000e+00 - total_loss: 0.8590\n",
            "Epoch 69/100\n",
            "20/20 [==============================] - 1s 28ms/step - root_mean_squared_error: 0.9274 - loss: 0.8580 - regularization_loss: 0.0000e+00 - total_loss: 0.8580\n",
            "Epoch 70/100\n",
            "20/20 [==============================] - 1s 28ms/step - root_mean_squared_error: 0.9268 - loss: 0.8570 - regularization_loss: 0.0000e+00 - total_loss: 0.8570\n",
            "Epoch 71/100\n",
            "20/20 [==============================] - 1s 28ms/step - root_mean_squared_error: 0.9263 - loss: 0.8560 - regularization_loss: 0.0000e+00 - total_loss: 0.8560\n",
            "Epoch 72/100\n",
            "20/20 [==============================] - 1s 29ms/step - root_mean_squared_error: 0.9259 - loss: 0.8551 - regularization_loss: 0.0000e+00 - total_loss: 0.8551\n",
            "Epoch 73/100\n",
            "20/20 [==============================] - 1s 27ms/step - root_mean_squared_error: 0.9254 - loss: 0.8543 - regularization_loss: 0.0000e+00 - total_loss: 0.8543\n",
            "Epoch 74/100\n",
            "20/20 [==============================] - 1s 28ms/step - root_mean_squared_error: 0.9250 - loss: 0.8535 - regularization_loss: 0.0000e+00 - total_loss: 0.8535\n",
            "Epoch 75/100\n",
            "20/20 [==============================] - 1s 29ms/step - root_mean_squared_error: 0.9245 - loss: 0.8527 - regularization_loss: 0.0000e+00 - total_loss: 0.8527\n",
            "Epoch 76/100\n",
            "20/20 [==============================] - 1s 28ms/step - root_mean_squared_error: 0.9241 - loss: 0.8519 - regularization_loss: 0.0000e+00 - total_loss: 0.8519\n",
            "Epoch 77/100\n",
            "20/20 [==============================] - 1s 29ms/step - root_mean_squared_error: 0.9238 - loss: 0.8512 - regularization_loss: 0.0000e+00 - total_loss: 0.8512\n",
            "Epoch 78/100\n",
            "20/20 [==============================] - 1s 28ms/step - root_mean_squared_error: 0.9234 - loss: 0.8505 - regularization_loss: 0.0000e+00 - total_loss: 0.8505\n",
            "Epoch 79/100\n",
            "20/20 [==============================] - 1s 28ms/step - root_mean_squared_error: 0.9230 - loss: 0.8498 - regularization_loss: 0.0000e+00 - total_loss: 0.8498\n",
            "Epoch 80/100\n",
            "20/20 [==============================] - 1s 28ms/step - root_mean_squared_error: 0.9227 - loss: 0.8492 - regularization_loss: 0.0000e+00 - total_loss: 0.8492\n",
            "Epoch 81/100\n",
            "20/20 [==============================] - 1s 28ms/step - root_mean_squared_error: 0.9224 - loss: 0.8485 - regularization_loss: 0.0000e+00 - total_loss: 0.8485\n",
            "Epoch 82/100\n",
            "20/20 [==============================] - 1s 28ms/step - root_mean_squared_error: 0.9220 - loss: 0.8479 - regularization_loss: 0.0000e+00 - total_loss: 0.8479\n",
            "Epoch 83/100\n",
            "20/20 [==============================] - 1s 28ms/step - root_mean_squared_error: 0.9217 - loss: 0.8474 - regularization_loss: 0.0000e+00 - total_loss: 0.8474\n",
            "Epoch 84/100\n",
            "20/20 [==============================] - 1s 28ms/step - root_mean_squared_error: 0.9214 - loss: 0.8468 - regularization_loss: 0.0000e+00 - total_loss: 0.8468\n",
            "Epoch 85/100\n",
            "20/20 [==============================] - 1s 29ms/step - root_mean_squared_error: 0.9212 - loss: 0.8463 - regularization_loss: 0.0000e+00 - total_loss: 0.8463\n",
            "Epoch 86/100\n",
            "20/20 [==============================] - 1s 28ms/step - root_mean_squared_error: 0.9209 - loss: 0.8458 - regularization_loss: 0.0000e+00 - total_loss: 0.8458\n",
            "Epoch 87/100\n",
            "20/20 [==============================] - 1s 28ms/step - root_mean_squared_error: 0.9206 - loss: 0.8453 - regularization_loss: 0.0000e+00 - total_loss: 0.8453\n",
            "Epoch 88/100\n",
            "20/20 [==============================] - 1s 29ms/step - root_mean_squared_error: 0.9204 - loss: 0.8448 - regularization_loss: 0.0000e+00 - total_loss: 0.8448\n",
            "Epoch 89/100\n",
            "20/20 [==============================] - 1s 27ms/step - root_mean_squared_error: 0.9201 - loss: 0.8443 - regularization_loss: 0.0000e+00 - total_loss: 0.8443\n",
            "Epoch 90/100\n",
            "20/20 [==============================] - 1s 28ms/step - root_mean_squared_error: 0.9199 - loss: 0.8439 - regularization_loss: 0.0000e+00 - total_loss: 0.8439\n",
            "Epoch 91/100\n",
            "20/20 [==============================] - 1s 28ms/step - root_mean_squared_error: 0.9197 - loss: 0.8435 - regularization_loss: 0.0000e+00 - total_loss: 0.8435\n",
            "Epoch 92/100\n",
            "20/20 [==============================] - 1s 29ms/step - root_mean_squared_error: 0.9194 - loss: 0.8430 - regularization_loss: 0.0000e+00 - total_loss: 0.8430\n",
            "Epoch 93/100\n",
            "20/20 [==============================] - 1s 29ms/step - root_mean_squared_error: 0.9192 - loss: 0.8426 - regularization_loss: 0.0000e+00 - total_loss: 0.8426\n",
            "Epoch 94/100\n",
            "20/20 [==============================] - 1s 27ms/step - root_mean_squared_error: 0.9190 - loss: 0.8423 - regularization_loss: 0.0000e+00 - total_loss: 0.8423\n",
            "Epoch 95/100\n",
            "20/20 [==============================] - 1s 28ms/step - root_mean_squared_error: 0.9188 - loss: 0.8419 - regularization_loss: 0.0000e+00 - total_loss: 0.8419\n",
            "Epoch 96/100\n",
            "20/20 [==============================] - 1s 28ms/step - root_mean_squared_error: 0.9186 - loss: 0.8415 - regularization_loss: 0.0000e+00 - total_loss: 0.8415\n",
            "Epoch 97/100\n",
            "20/20 [==============================] - 1s 28ms/step - root_mean_squared_error: 0.9185 - loss: 0.8412 - regularization_loss: 0.0000e+00 - total_loss: 0.8412\n",
            "Epoch 98/100\n",
            "20/20 [==============================] - 1s 28ms/step - root_mean_squared_error: 0.9183 - loss: 0.8409 - regularization_loss: 0.0000e+00 - total_loss: 0.8409\n",
            "Epoch 99/100\n",
            "20/20 [==============================] - 1s 27ms/step - root_mean_squared_error: 0.9181 - loss: 0.8405 - regularization_loss: 0.0000e+00 - total_loss: 0.8405\n",
            "Epoch 100/100\n",
            "20/20 [==============================] - 1s 29ms/step - root_mean_squared_error: 0.9180 - loss: 0.8402 - regularization_loss: 0.0000e+00 - total_loss: 0.8402\n"
          ]
        },
        {
          "output_type": "execute_result",
          "data": {
            "text/plain": [
              "<keras.callbacks.History at 0x7f60aa3e4a50>"
            ]
          },
          "metadata": {},
          "execution_count": 18
        }
      ]
    },
    {
      "cell_type": "code",
      "metadata": {
        "colab": {
          "base_uri": "https://localhost:8080/"
        },
        "id": "UmLL49HiurSM",
        "outputId": "2c8fdb0e-0b15-4ff2-c216-e6a482cb61c8"
      },
      "source": [
        "model.evaluate(cached_test, return_dict=True)"
      ],
      "execution_count": null,
      "outputs": [
        {
          "output_type": "stream",
          "name": "stdout",
          "text": [
            "10/10 [==============================] - 3s 15ms/step - root_mean_squared_error: 0.9399 - loss: 0.8772 - regularization_loss: 0.0000e+00 - total_loss: 0.8772\n"
          ]
        },
        {
          "output_type": "execute_result",
          "data": {
            "text/plain": [
              "{'loss': 0.8284850120544434,\n",
              " 'regularization_loss': 0,\n",
              " 'root_mean_squared_error': 0.9398870468139648,\n",
              " 'total_loss': 0.8284850120544434}"
            ]
          },
          "metadata": {},
          "execution_count": 19
        }
      ]
    },
    {
      "cell_type": "code",
      "metadata": {
        "colab": {
          "base_uri": "https://localhost:8080/"
        },
        "id": "ARB1YKZTus-c",
        "outputId": "6c573d71-006c-4da8-ed29-11e18c6d64fb"
      },
      "source": [
        "test_ratings = {}\n",
        "test_movie_titles = [\"M*A*S*H (1970)\", \"Dances with Wolves (1990)\", \"Speed (1994)\"]\n",
        "for movie_title in test_movie_titles:\n",
        "  test_ratings[movie_title] = model({\n",
        "      \"user_id\": np.array([\"42\"]),\n",
        "      \"movie_title\": np.array([movie_title])\n",
        "  })\n",
        "\n",
        "print(\"Ratings:\")\n",
        "for title, score in sorted(test_ratings.items(), key=lambda x: x[1], reverse=True):\n",
        "  print(f\"{title}: {score}\")"
      ],
      "execution_count": null,
      "outputs": [
        {
          "output_type": "stream",
          "name": "stdout",
          "text": [
            "Ratings:\n",
            "M*A*S*H (1970): [[4.076833]]\n",
            "Dances with Wolves (1990): [[3.9437895]]\n",
            "Speed (1994): [[3.7906384]]\n"
          ]
        }
      ]
    },
    {
      "cell_type": "markdown",
      "metadata": {
        "id": "-uVKF8i0vFvK"
      },
      "source": [
        "# Serving"
      ]
    },
    {
      "cell_type": "code",
      "metadata": {
        "colab": {
          "base_uri": "https://localhost:8080/"
        },
        "id": "EX7bvxjLuy93",
        "outputId": "3e4b901a-e5fb-48b3-d3ec-576f789bb8ce"
      },
      "source": [
        "tf.saved_model.save(model, \"export\")"
      ],
      "execution_count": null,
      "outputs": [
        {
          "output_type": "stream",
          "name": "stderr",
          "text": [
            "WARNING:absl:Found untraced functions such as ranking_1_layer_call_fn, ranking_1_layer_call_and_return_conditional_losses, ranking_1_layer_call_fn, ranking_1_layer_call_and_return_conditional_losses, ranking_1_layer_call_and_return_conditional_losses while saving (showing 5 of 5). These functions will not be directly callable after loading.\n"
          ]
        },
        {
          "output_type": "stream",
          "name": "stdout",
          "text": [
            "INFO:tensorflow:Assets written to: export/assets\n"
          ]
        },
        {
          "output_type": "stream",
          "name": "stderr",
          "text": [
            "INFO:tensorflow:Assets written to: export/assets\n"
          ]
        }
      ]
    },
    {
      "cell_type": "code",
      "metadata": {
        "colab": {
          "base_uri": "https://localhost:8080/"
        },
        "id": "7que-jfAvHgu",
        "outputId": "5af70d89-1ad5-4e60-99d0-fef2770ae202"
      },
      "source": [
        "# Loading\n",
        "loaded = tf.saved_model.load(\"export\")\n",
        "\n",
        "loaded({\"user_id\": np.array([\"42\"]), \"movie_title\": [\"Speed (1994)\"]}).numpy()"
      ],
      "execution_count": null,
      "outputs": [
        {
          "output_type": "execute_result",
          "data": {
            "text/plain": [
              "array([[3.7906384]], dtype=float32)"
            ]
          },
          "metadata": {},
          "execution_count": 22
        }
      ]
    },
    {
      "cell_type": "code",
      "metadata": {
        "id": "EVeA3LldvKgA"
      },
      "source": [
        ""
      ],
      "execution_count": null,
      "outputs": []
    }
  ]
}