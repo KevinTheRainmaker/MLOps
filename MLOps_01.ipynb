{
  "nbformat": 4,
  "nbformat_minor": 0,
  "metadata": {
    "colab": {
      "name": "\bMLOps_01.ipynb",
      "provenance": [],
      "authorship_tag": "ABX9TyO1ATufOQQhlIASY02S/8VL",
      "include_colab_link": true
    },
    "kernelspec": {
      "name": "python3",
      "display_name": "Python 3"
    },
    "language_info": {
      "name": "python"
    }
  },
  "cells": [
    {
      "cell_type": "markdown",
      "metadata": {
        "id": "view-in-github",
        "colab_type": "text"
      },
      "source": [
        "<a href=\"https://colab.research.google.com/github/KevinTheRainmaker/MLOps/blob/main/%08MLOps_01.ipynb\" target=\"_parent\"><img src=\"https://colab.research.google.com/assets/colab-badge.svg\" alt=\"Open In Colab\"/></a>"
      ]
    },
    {
      "cell_type": "markdown",
      "source": [
        "# TFX - 텐서플로우 익스텐디드"
      ],
      "metadata": {
        "id": "2NYOMd5NEGhi"
      }
    },
    {
      "cell_type": "code",
      "execution_count": 3,
      "metadata": {
        "id": "gab4UJWAEAZH"
      },
      "outputs": [],
      "source": [
        "!pip3 install -q tfx==1.2.0"
      ]
    },
    {
      "cell_type": "code",
      "source": [
        "import tensorflow_data_validation as tfdv\n",
        "import tensorflow_transform as tft\n",
        "import tensorflow_transform.beam as tft_beam"
      ],
      "metadata": {
        "id": "wK9LA8U8EPIH"
      },
      "execution_count": 4,
      "outputs": []
    },
    {
      "cell_type": "code",
      "source": [
        "from tfx.components import ExampleValidator\n",
        "from tfx.components import Evaluator\n",
        "from tfx.components import Transform"
      ],
      "metadata": {
        "id": "SO-dsUBvG_ai"
      },
      "execution_count": 6,
      "outputs": []
    },
    {
      "cell_type": "code",
      "source": [
        ""
      ],
      "metadata": {
        "id": "KFyFUDZOHBUQ"
      },
      "execution_count": null,
      "outputs": []
    }
  ]
}