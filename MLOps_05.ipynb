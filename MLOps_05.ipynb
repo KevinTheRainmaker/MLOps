{
  "nbformat": 4,
  "nbformat_minor": 0,
  "metadata": {
    "colab": {
      "name": "\bMLOps_05.ipynb",
      "provenance": [],
      "collapsed_sections": [],
      "authorship_tag": "ABX9TyPbNsroLqI5ayI+kfqosznF",
      "include_colab_link": true
    },
    "kernelspec": {
      "name": "python3",
      "display_name": "Python 3"
    },
    "language_info": {
      "name": "python"
    }
  },
  "cells": [
    {
      "cell_type": "markdown",
      "metadata": {
        "id": "view-in-github",
        "colab_type": "text"
      },
      "source": [
        "<a href=\"https://colab.research.google.com/github/KevinTheRainmaker/MLOps/blob/main/%08MLOps_05.ipynb\" target=\"_parent\"><img src=\"https://colab.research.google.com/assets/colab-badge.svg\" alt=\"Open In Colab\"/></a>"
      ]
    },
    {
      "cell_type": "markdown",
      "source": [
        "# 데이터 검증"
      ],
      "metadata": {
        "id": "RcaId3jVLGNU"
      }
    },
    {
      "cell_type": "code",
      "execution_count": 1,
      "metadata": {
        "colab": {
          "base_uri": "https://localhost:8080/"
        },
        "id": "yEEYXmDCLCJ_",
        "outputId": "f936455e-1b96-4b83-9d99-4c3a0d11846a"
      },
      "outputs": [
        {
          "output_type": "stream",
          "name": "stdout",
          "text": [
            "\u001b[K     |████████████████████████████████| 1.4 MB 5.5 MB/s \n",
            "\u001b[K     |████████████████████████████████| 48 kB 4.1 MB/s \n",
            "\u001b[K     |████████████████████████████████| 294 kB 52.5 MB/s \n",
            "\u001b[K     |████████████████████████████████| 19.1 MB 1.2 MB/s \n",
            "\u001b[K     |████████████████████████████████| 9.9 MB 23.5 MB/s \n",
            "\u001b[K     |████████████████████████████████| 247 kB 73.2 MB/s \n",
            "\u001b[K     |████████████████████████████████| 2.3 MB 15.6 MB/s \n",
            "\u001b[K     |████████████████████████████████| 45 kB 2.8 MB/s \n",
            "\u001b[K     |████████████████████████████████| 62 kB 689 kB/s \n",
            "\u001b[K     |████████████████████████████████| 151 kB 20.7 MB/s \n",
            "\u001b[K     |████████████████████████████████| 183 kB 45.9 MB/s \n",
            "\u001b[K     |████████████████████████████████| 110 kB 56.4 MB/s \n",
            "\u001b[K     |████████████████████████████████| 435 kB 50.0 MB/s \n",
            "\u001b[K     |████████████████████████████████| 144 kB 48.3 MB/s \n",
            "\u001b[K     |████████████████████████████████| 255 kB 56.7 MB/s \n",
            "\u001b[K     |████████████████████████████████| 267 kB 47.5 MB/s \n",
            "\u001b[K     |████████████████████████████████| 173 kB 46.2 MB/s \n",
            "\u001b[K     |████████████████████████████████| 171 kB 42.4 MB/s \n",
            "\u001b[K     |████████████████████████████████| 180 kB 60.6 MB/s \n",
            "\u001b[K     |████████████████████████████████| 83 kB 1.5 MB/s \n",
            "\u001b[K     |████████████████████████████████| 517 kB 55.6 MB/s \n",
            "\u001b[K     |████████████████████████████████| 109 kB 70.6 MB/s \n",
            "\u001b[K     |████████████████████████████████| 267 kB 70.8 MB/s \n",
            "\u001b[K     |████████████████████████████████| 267 kB 59.7 MB/s \n",
            "\u001b[K     |████████████████████████████████| 266 kB 59.8 MB/s \n",
            "\u001b[K     |████████████████████████████████| 266 kB 66.2 MB/s \n",
            "\u001b[K     |████████████████████████████████| 265 kB 70.2 MB/s \n",
            "\u001b[K     |████████████████████████████████| 259 kB 73.0 MB/s \n",
            "\u001b[K     |████████████████████████████████| 234 kB 61.3 MB/s \n",
            "\u001b[K     |████████████████████████████████| 234 kB 69.9 MB/s \n",
            "\u001b[K     |████████████████████████████████| 234 kB 66.8 MB/s \n",
            "\u001b[K     |████████████████████████████████| 232 kB 61.6 MB/s \n",
            "\u001b[K     |████████████████████████████████| 232 kB 57.8 MB/s \n",
            "\u001b[K     |████████████████████████████████| 230 kB 58.5 MB/s \n",
            "\u001b[K     |████████████████████████████████| 156 kB 63.2 MB/s \n",
            "\u001b[K     |████████████████████████████████| 156 kB 63.4 MB/s \n",
            "\u001b[K     |████████████████████████████████| 155 kB 59.6 MB/s \n",
            "\u001b[K     |████████████████████████████████| 154 kB 47.2 MB/s \n",
            "\u001b[K     |████████████████████████████████| 109 kB 59.8 MB/s \n",
            "\u001b[K     |████████████████████████████████| 95 kB 4.7 MB/s \n",
            "\u001b[K     |████████████████████████████████| 95 kB 4.3 MB/s \n",
            "\u001b[K     |████████████████████████████████| 95 kB 4.2 MB/s \n",
            "\u001b[K     |████████████████████████████████| 95 kB 3.7 MB/s \n",
            "\u001b[K     |████████████████████████████████| 94 kB 3.5 MB/s \n",
            "\u001b[K     |████████████████████████████████| 92 kB 454 kB/s \n",
            "\u001b[K     |████████████████████████████████| 92 kB 412 kB/s \n",
            "\u001b[K     |████████████████████████████████| 93 kB 1.6 MB/s \n",
            "\u001b[K     |████████████████████████████████| 503 kB 67.1 MB/s \n",
            "\u001b[K     |████████████████████████████████| 596 kB 40.6 MB/s \n",
            "\u001b[K     |████████████████████████████████| 1.1 MB 49.4 MB/s \n",
            "\u001b[?25h  Building wheel for dill (setup.py) ... \u001b[?25l\u001b[?25hdone\n",
            "  Building wheel for google-apitools (setup.py) ... \u001b[?25l\u001b[?25hdone\n",
            "  Building wheel for grpc-google-iam-v1 (setup.py) ... \u001b[?25l\u001b[?25hdone\n",
            "\u001b[31mERROR: pip's dependency resolver does not currently take into account all the packages that are installed. This behaviour is the source of the following dependency conflicts.\n",
            "multiprocess 0.70.12.2 requires dill>=0.3.4, but you have dill 0.3.1.1 which is incompatible.\n",
            "google-colab 1.0.0 requires requests~=2.23.0, but you have requests 2.26.0 which is incompatible.\n",
            "datascience 0.10.6 requires folium==0.2.1, but you have folium 0.8.3 which is incompatible.\u001b[0m\n"
          ]
        }
      ],
      "source": [
        "!pip install -q tensorflow-data-validation"
      ]
    },
    {
      "cell_type": "code",
      "source": [
        "import tensorflow_data_validation as tfdv\n",
        "\n",
        "# csv 로드\n",
        "stats = tfdv.generate_statistics_from_csv(\n",
        "\tdata_location='/data/consumer_complaints.csv',\n",
        "    delimiter=',')\n",
        "\n",
        "# TFRecord 로드\n",
        "stats = tfdv.generate_statistics_from_tfrecord(\n",
        "\tdata_location='/data/consumer_complaints.csv')"
      ],
      "metadata": {
        "id": "t2uaaGwxLKsr"
      },
      "execution_count": null,
      "outputs": []
    },
    {
      "cell_type": "code",
      "source": [
        "schema = tfdv.infer_schema(stats)"
      ],
      "metadata": {
        "id": "etmftczCLOXc"
      },
      "execution_count": null,
      "outputs": []
    },
    {
      "cell_type": "code",
      "source": [
        "tfdv.display_schema(schema)"
      ],
      "metadata": {
        "id": "bnyb9SdGLPCJ"
      },
      "execution_count": null,
      "outputs": []
    },
    {
      "cell_type": "code",
      "source": [
        "train_stats = tfdv.generate_statistics_from_tfrecord(\n",
        "    data_location='train_tfrecord_filename'\n",
        ")\n",
        "\n",
        "val_stats = tfdv.generate_statistics_from_tfrecord(\n",
        "    data_location='val_tfrecord_filename'\n",
        ")\n",
        "\n",
        "tfdv.visualize_statistics(lhs_statistics=val_stats, rhs_statistics=train_stats,\n",
        "                          lhs_name='VAL_DATASET', rhs_name='TRAIN_DATASET')"
      ],
      "metadata": {
        "id": "5ok2FEVJLP-1"
      },
      "execution_count": null,
      "outputs": []
    },
    {
      "cell_type": "code",
      "source": [
        "anomalies = tfdv.validate_statistics(statistics=val_stats, schema=schema)"
      ],
      "metadata": {
        "id": "mzSAZqHhL_zP"
      },
      "execution_count": null,
      "outputs": []
    },
    {
      "cell_type": "code",
      "source": [
        "tfdv.display_anomalies(anomalies)"
      ],
      "metadata": {
        "id": "hfE0vl3tL_kr"
      },
      "execution_count": null,
      "outputs": []
    },
    {
      "cell_type": "code",
      "source": [
        "# anomaly_info {\n",
        "#     key: \"company\"\n",
        "#     value {\n",
        "#         description: \"The feature was present in fewer examples than expected.\"\n",
        "#         severity: ERROR\n",
        "#         short_description: \"Column dropped\"\n",
        "#         reason {\n",
        "#             type: FEATURE_TYPE_LOW_FRACTION_PRESENT\n",
        "#             short_description: \"Column dropped\"\n",
        "#             description: \"The feature was present in fewer examples than expected.\"\n",
        "#         }\n",
        "#         path {\n",
        "#             step: \"company\"\n",
        "#         }\n",
        "#     }\n",
        "# }"
      ],
      "metadata": {
        "id": "CLcGyg77fPMC"
      },
      "execution_count": null,
      "outputs": []
    },
    {
      "cell_type": "code",
      "source": [
        "schema = tfdv.load_schema_text('schema_location')"
      ],
      "metadata": {
        "id": "v4rETd2VfPJ8"
      },
      "execution_count": null,
      "outputs": []
    },
    {
      "cell_type": "code",
      "source": [
        "feature = tfdv.get_feature(schema, 'feature_name')\n",
        "feature.presence.min_fraction = 0.9"
      ],
      "metadata": {
        "id": "M5vraweefPH3"
      },
      "execution_count": null,
      "outputs": []
    },
    {
      "cell_type": "code",
      "source": [
        "# 미국 state 목록에서 알래스카(AK) 제거하기\n",
        "state_domain = tfdv.get_domain(schema, 'state')\n",
        "state_domain.value.remove('AK')"
      ],
      "metadata": {
        "id": "V4r_uZ1mfPFy"
      },
      "execution_count": null,
      "outputs": []
    },
    {
      "cell_type": "code",
      "source": [
        "tfdv.write_schema_text(schema, 'schema_location')"
      ],
      "metadata": {
        "id": "7uPCsXFcfPDu"
      },
      "execution_count": null,
      "outputs": []
    },
    {
      "cell_type": "code",
      "source": [
        "updated_anomalies = tfdv.validate_statistics(val_stats, schema)\n",
        "tfdv.display_anomalies(updated_anomalies)"
      ],
      "metadata": {
        "id": "pg8FTFE3fPBn"
      },
      "execution_count": null,
      "outputs": []
    },
    {
      "cell_type": "code",
      "source": [
        "# 임계값 설정\n",
        "tfdv.get_feature(schema, 'company').skew_comparator.infinity_norm.threshold = 0.01 \n",
        "\n",
        "skew_anomalies = tfdv.validate_statistics(statistics=train_stats,\n",
        "                                          schema=schema,\n",
        "                                          serving_statistics=serving_stats)"
      ],
      "metadata": {
        "id": "rZ53TP0ofO_i"
      },
      "execution_count": null,
      "outputs": []
    },
    {
      "cell_type": "code",
      "source": [
        "tfdv.get_feature(schema, 'company').drift_comparator.infinity_norm.threshold = 0.01 \n",
        "\n",
        "drift_anomalies = tfdv.validate_statistics(statistics=train_stats_today,\n",
        "                                          schema=schema,\n",
        "                                          previous_statistics=train_stats_yesterday)"
      ],
      "metadata": {
        "id": "Ble-8nL3fO9t"
      },
      "execution_count": null,
      "outputs": []
    },
    {
      "cell_type": "code",
      "source": [
        "from tensorflow_data_validation.utils import slicing_util\n",
        "\n",
        "slice_fn1 = slicing_util.get_feature_value_slicer(\n",
        "    features={'state':[b'CA']} # feature 값은 이진수 값 list로 제공해야 한다.\n",
        ")\n",
        "\n",
        "slice_options = tfdv.StatsOptions(slice_functions=[slice_fn1])\n",
        "slice_stats = tfdv.generate_statistics_from_csv(\n",
        "    data_location='./data/consumer-complaints.csv',\n",
        "    stats_options=slice_options\n",
        ")"
      ],
      "metadata": {
        "id": "otSYtxO5fO7X"
      },
      "execution_count": null,
      "outputs": []
    },
    {
      "cell_type": "code",
      "source": [
        "from tensorflow_metadata.proto.v0 import statistics_pb2\n",
        "\n",
        "def display_slice_keys(stats):\n",
        "  print(list(map(lambda x: x.name, slice_stats.datasets)))\n",
        "\n",
        "def get_sliced_stats(stats, slice_key):\n",
        "  for sliced_stats in stats.datasets:\n",
        "    if sliced_stats.name == slice_key:\n",
        "      result = statistics_pb2.DatasetFeatureStatisticsList()\n",
        "      result.datasets.add().CopyFrom(sliced_stats)\n",
        "      return result\n",
        "    print('Invalid Slice Key')\n",
        "\n",
        "def compare_slices(stats, slice_key1, slice_key2):\n",
        "  lhs_stats = get_sliced_stats(stats, slice_key1)\n",
        "  rhs_stats = get_sliced_stats(stats, slice_key2)\n",
        "  tfdv.validate_statistics(lhs_stats, rhs_stats)\n",
        "\n",
        "# 시각화\n",
        "tfdv.visualize_statistics(get_sliced_stats(slice_stats, 'state_CA'))"
      ],
      "metadata": {
        "id": "ssB7IYsKfO5R"
      },
      "execution_count": null,
      "outputs": []
    },
    {
      "cell_type": "code",
      "source": [
        "compare_slices(slice_stats, 'state_CA', 'All Examples')"
      ],
      "metadata": {
        "id": "USlruYu9fO3M"
      },
      "execution_count": null,
      "outputs": []
    },
    {
      "cell_type": "code",
      "source": [
        ""
      ],
      "metadata": {
        "id": "GLIACYy0fO05"
      },
      "execution_count": null,
      "outputs": []
    }
  ]
}