{
  "nbformat": 4,
  "nbformat_minor": 0,
  "metadata": {
    "colab": {
      "name": "MLOps_07.ipynb",
      "provenance": [],
      "collapsed_sections": [],
      "authorship_tag": "ABX9TyM+eGEj7f2b4gvi8MZ8jLfA",
      "include_colab_link": true
    },
    "kernelspec": {
      "name": "python3",
      "display_name": "Python 3"
    },
    "language_info": {
      "name": "python"
    }
  },
  "cells": [
    {
      "cell_type": "markdown",
      "metadata": {
        "id": "view-in-github",
        "colab_type": "text"
      },
      "source": [
        "<a href=\"https://colab.research.google.com/github/KevinTheRainmaker/MLOps/blob/main/MLOps_07.ipynb\" target=\"_parent\"><img src=\"https://colab.research.google.com/assets/colab-badge.svg\" alt=\"Open In Colab\"/></a>"
      ]
    },
    {
      "cell_type": "markdown",
      "source": [
        "#데이터 전처리 using TFT"
      ],
      "metadata": {
        "id": "1dWH52C0zYpK"
      }
    },
    {
      "cell_type": "code",
      "execution_count": 1,
      "metadata": {
        "colab": {
          "base_uri": "https://localhost:8080/"
        },
        "id": "bxcHQ7WayyT1",
        "outputId": "c2cafe19-da8f-4c0c-fcd9-9472117b5cc7"
      },
      "outputs": [
        {
          "output_type": "stream",
          "name": "stdout",
          "text": [
            "\u001b[?25l\r\u001b[K     |▊                               | 10 kB 21.0 MB/s eta 0:00:01\r\u001b[K     |█▌                              | 20 kB 21.4 MB/s eta 0:00:01\r\u001b[K     |██▎                             | 30 kB 23.2 MB/s eta 0:00:01\r\u001b[K     |███                             | 40 kB 25.5 MB/s eta 0:00:01\r\u001b[K     |███▉                            | 51 kB 23.7 MB/s eta 0:00:01\r\u001b[K     |████▋                           | 61 kB 19.0 MB/s eta 0:00:01\r\u001b[K     |█████▍                          | 71 kB 17.0 MB/s eta 0:00:01\r\u001b[K     |██████▏                         | 81 kB 18.1 MB/s eta 0:00:01\r\u001b[K     |███████                         | 92 kB 19.0 MB/s eta 0:00:01\r\u001b[K     |███████▊                        | 102 kB 17.8 MB/s eta 0:00:01\r\u001b[K     |████████▌                       | 112 kB 17.8 MB/s eta 0:00:01\r\u001b[K     |█████████▎                      | 122 kB 17.8 MB/s eta 0:00:01\r\u001b[K     |██████████                      | 133 kB 17.8 MB/s eta 0:00:01\r\u001b[K     |██████████▉                     | 143 kB 17.8 MB/s eta 0:00:01\r\u001b[K     |███████████▋                    | 153 kB 17.8 MB/s eta 0:00:01\r\u001b[K     |████████████▍                   | 163 kB 17.8 MB/s eta 0:00:01\r\u001b[K     |█████████████▏                  | 174 kB 17.8 MB/s eta 0:00:01\r\u001b[K     |██████████████                  | 184 kB 17.8 MB/s eta 0:00:01\r\u001b[K     |██████████████▊                 | 194 kB 17.8 MB/s eta 0:00:01\r\u001b[K     |███████████████▌                | 204 kB 17.8 MB/s eta 0:00:01\r\u001b[K     |████████████████▎               | 215 kB 17.8 MB/s eta 0:00:01\r\u001b[K     |█████████████████               | 225 kB 17.8 MB/s eta 0:00:01\r\u001b[K     |█████████████████▉              | 235 kB 17.8 MB/s eta 0:00:01\r\u001b[K     |██████████████████▋             | 245 kB 17.8 MB/s eta 0:00:01\r\u001b[K     |███████████████████▍            | 256 kB 17.8 MB/s eta 0:00:01\r\u001b[K     |████████████████████▏           | 266 kB 17.8 MB/s eta 0:00:01\r\u001b[K     |█████████████████████           | 276 kB 17.8 MB/s eta 0:00:01\r\u001b[K     |█████████████████████▊          | 286 kB 17.8 MB/s eta 0:00:01\r\u001b[K     |██████████████████████▌         | 296 kB 17.8 MB/s eta 0:00:01\r\u001b[K     |███████████████████████▎        | 307 kB 17.8 MB/s eta 0:00:01\r\u001b[K     |████████████████████████        | 317 kB 17.8 MB/s eta 0:00:01\r\u001b[K     |████████████████████████▉       | 327 kB 17.8 MB/s eta 0:00:01\r\u001b[K     |█████████████████████████▋      | 337 kB 17.8 MB/s eta 0:00:01\r\u001b[K     |██████████████████████████▍     | 348 kB 17.8 MB/s eta 0:00:01\r\u001b[K     |███████████████████████████▏    | 358 kB 17.8 MB/s eta 0:00:01\r\u001b[K     |████████████████████████████    | 368 kB 17.8 MB/s eta 0:00:01\r\u001b[K     |████████████████████████████▊   | 378 kB 17.8 MB/s eta 0:00:01\r\u001b[K     |█████████████████████████████▌  | 389 kB 17.8 MB/s eta 0:00:01\r\u001b[K     |██████████████████████████████▎ | 399 kB 17.8 MB/s eta 0:00:01\r\u001b[K     |███████████████████████████████ | 409 kB 17.8 MB/s eta 0:00:01\r\u001b[K     |███████████████████████████████▉| 419 kB 17.8 MB/s eta 0:00:01\r\u001b[K     |████████████████████████████████| 422 kB 17.8 MB/s \n",
            "\u001b[K     |████████████████████████████████| 48 kB 3.5 MB/s \n",
            "\u001b[K     |████████████████████████████████| 9.9 MB 40.7 MB/s \n",
            "\u001b[K     |████████████████████████████████| 19.1 MB 19.9 MB/s \n",
            "\u001b[K     |████████████████████████████████| 247 kB 35.8 MB/s \n",
            "\u001b[K     |████████████████████████████████| 151 kB 47.0 MB/s \n",
            "\u001b[K     |████████████████████████████████| 2.3 MB 57.6 MB/s \n",
            "\u001b[K     |████████████████████████████████| 45 kB 3.0 MB/s \n",
            "\u001b[K     |████████████████████████████████| 63 kB 1.6 MB/s \n",
            "\u001b[K     |████████████████████████████████| 83 kB 1.7 MB/s \n",
            "\u001b[K     |████████████████████████████████| 173 kB 78.2 MB/s \n",
            "\u001b[K     |████████████████████████████████| 255 kB 55.1 MB/s \n",
            "\u001b[K     |████████████████████████████████| 171 kB 64.6 MB/s \n",
            "\u001b[K     |████████████████████████████████| 180 kB 59.0 MB/s \n",
            "\u001b[K     |████████████████████████████████| 183 kB 63.0 MB/s \n",
            "\u001b[K     |████████████████████████████████| 144 kB 51.6 MB/s \n",
            "\u001b[K     |████████████████████████████████| 110 kB 45.8 MB/s \n",
            "\u001b[K     |████████████████████████████████| 435 kB 49.7 MB/s \n",
            "\u001b[K     |████████████████████████████████| 267 kB 52.3 MB/s \n",
            "\u001b[K     |████████████████████████████████| 109 kB 56.9 MB/s \n",
            "\u001b[K     |████████████████████████████████| 517 kB 51.8 MB/s \n",
            "\u001b[K     |████████████████████████████████| 267 kB 44.3 MB/s \n",
            "\u001b[K     |████████████████████████████████| 267 kB 50.1 MB/s \n",
            "\u001b[K     |████████████████████████████████| 266 kB 52.4 MB/s \n",
            "\u001b[K     |████████████████████████████████| 266 kB 52.3 MB/s \n",
            "\u001b[K     |████████████████████████████████| 265 kB 53.0 MB/s \n",
            "\u001b[K     |████████████████████████████████| 259 kB 53.1 MB/s \n",
            "\u001b[K     |████████████████████████████████| 234 kB 52.1 MB/s \n",
            "\u001b[K     |████████████████████████████████| 234 kB 52.5 MB/s \n",
            "\u001b[K     |████████████████████████████████| 234 kB 51.6 MB/s \n",
            "\u001b[K     |████████████████████████████████| 232 kB 53.2 MB/s \n",
            "\u001b[K     |████████████████████████████████| 232 kB 44.8 MB/s \n",
            "\u001b[K     |████████████████████████████████| 230 kB 51.7 MB/s \n",
            "\u001b[K     |████████████████████████████████| 156 kB 46.0 MB/s \n",
            "\u001b[K     |████████████████████████████████| 156 kB 59.4 MB/s \n",
            "\u001b[K     |████████████████████████████████| 155 kB 48.2 MB/s \n",
            "\u001b[K     |████████████████████████████████| 154 kB 56.4 MB/s \n",
            "\u001b[K     |████████████████████████████████| 109 kB 55.5 MB/s \n",
            "\u001b[K     |████████████████████████████████| 95 kB 3.8 MB/s \n",
            "\u001b[K     |████████████████████████████████| 95 kB 3.5 MB/s \n",
            "\u001b[K     |████████████████████████████████| 95 kB 3.7 MB/s \n",
            "\u001b[K     |████████████████████████████████| 95 kB 3.3 MB/s \n",
            "\u001b[K     |████████████████████████████████| 94 kB 3.2 MB/s \n",
            "\u001b[K     |████████████████████████████████| 92 kB 354 kB/s \n",
            "\u001b[K     |████████████████████████████████| 92 kB 338 kB/s \n",
            "\u001b[K     |████████████████████████████████| 93 kB 1.5 MB/s \n",
            "\u001b[K     |████████████████████████████████| 503 kB 51.5 MB/s \n",
            "\u001b[K     |████████████████████████████████| 596 kB 47.1 MB/s \n",
            "\u001b[K     |████████████████████████████████| 1.1 MB 40.6 MB/s \n",
            "\u001b[?25h  Building wheel for dill (setup.py) ... \u001b[?25l\u001b[?25hdone\n",
            "  Building wheel for google-apitools (setup.py) ... \u001b[?25l\u001b[?25hdone\n",
            "  Building wheel for grpc-google-iam-v1 (setup.py) ... \u001b[?25l\u001b[?25hdone\n",
            "\u001b[31mERROR: pip's dependency resolver does not currently take into account all the packages that are installed. This behaviour is the source of the following dependency conflicts.\n",
            "multiprocess 0.70.12.2 requires dill>=0.3.4, but you have dill 0.3.1.1 which is incompatible.\n",
            "google-colab 1.0.0 requires requests~=2.23.0, but you have requests 2.27.0 which is incompatible.\n",
            "datascience 0.10.6 requires folium==0.2.1, but you have folium 0.8.3 which is incompatible.\u001b[0m\n"
          ]
        }
      ],
      "source": [
        "!pip install -q tensorflow-transform"
      ]
    },
    {
      "cell_type": "code",
      "source": [
        "import tensorflow_transform as tft\n",
        "\n",
        "def preprocessing_fn(inputs):\n",
        "  x = inputs['x']\n",
        "  x_normalized = tft.scale_to_0_1(x)\n",
        "\n",
        "  return {\n",
        "      'x_xf': x_normalized\n",
        "  }"
      ],
      "metadata": {
        "id": "cueWQrNw0brp"
      },
      "execution_count": 2,
      "outputs": []
    },
    {
      "cell_type": "code",
      "source": [
        "import tensorflow as tf\n",
        "\n",
        "def preprocessing_fn(raw_image):\n",
        "  raw_image = tf.reshape(raw_image, [-1])\n",
        "\n",
        "  # JPEG Decoding\n",
        "  img_rgb = tf.io.decode_jpeg(raw_image, channels=3)\n",
        "\n",
        "  # RGB to Gray\n",
        "  img_gray = tf.image.rgb_to_grayscale(img_rgb)\n",
        "  img = tf.image.convert_image_dtype(img_gray, tf.float32)\n",
        "\n",
        "  # Re-sizing the image to 300*300\n",
        "  resized_img = tf.image.resize_with_pad(\n",
        "      img,\n",
        "      target_height=300,\n",
        "      target_width=300\n",
        "  )\n",
        "\n",
        "  img_grayscale = tf.image.rgb_to_grayscale(resized_img)\n",
        "\n",
        "  return tf.reshape(img_grayscale, [-1, 300, 300, 1])"
      ],
      "metadata": {
        "id": "uNhW_M_72eb5"
      },
      "execution_count": 3,
      "outputs": []
    },
    {
      "cell_type": "code",
      "source": [
        "raw_data = [\n",
        "            {'x':   1.20},\n",
        "            {'x':   2.99},\n",
        "            {'x': 100.00}\n",
        "]"
      ],
      "metadata": {
        "id": "sJMOCAL5Fc3i"
      },
      "execution_count": 5,
      "outputs": []
    },
    {
      "cell_type": "code",
      "source": [
        "import tensorflow as tf\n",
        "from tensorflow_transform.tf_metadata import dataset_metadata\n",
        "from tensorflow_transform.tf_metadata import schema_utils\n",
        "\n",
        "raw_data_metadata = dataset_metadata.DatasetMetadata(\n",
        "    schema_utils.schema_from_feature_spec({\n",
        "        'x':tf.io.FixedLenFeature([], tf.float32),\n",
        "    })\n",
        ")"
      ],
      "metadata": {
        "id": "Pgm0glT4FuG_"
      },
      "execution_count": 6,
      "outputs": []
    },
    {
      "cell_type": "code",
      "source": [
        "import tempfile\n",
        "import tensorflow_transform.beam.impl as tft_beam\n",
        "\n",
        "# 이전에 정의한 preprocessing_fn()\n",
        "def preprocessing_fn(inputs):\n",
        "  x = inputs['x']\n",
        "  x_normalized = tft.scale_to_0_1(x)\n",
        "\n",
        "  return {\n",
        "      'x_xf': x_normalized\n",
        "  }\n",
        "\n",
        "with beam.Pipeline() as pipeline:\n",
        "  with tft_beam.Context(temp_dir=tempfile.mkdtemp()):\n",
        "\n",
        "    tfrecord_file = 'TFRecords_File.tfrecord'\n",
        "    raw_data = (\n",
        "        pipeline|beam.io.ReadFromTFRecord(tfrecord_file)\n",
        "    )\n",
        "\n",
        "    transformed_dataset, transform_fn = (\n",
        "        (raw_data, raw_data_metadata)|tft_beam.AnalyzeAndTransformDataset(preprocessing_fn)\n",
        "    )"
      ],
      "metadata": {
        "id": "pGaRJxrCGzo9"
      },
      "execution_count": null,
      "outputs": []
    },
    {
      "cell_type": "code",
      "source": [
        "transformed_data, transformed_metadata = transformed_dataset\n",
        "\n",
        "print(transformed_data)"
      ],
      "metadata": {
        "id": "qmd9Vo47JvRV"
      },
      "execution_count": null,
      "outputs": []
    },
    {
      "cell_type": "code",
      "source": [
        "# [\n",
        "#  {'x_xf': 0.0},\n",
        "#  {'x_xf': 0.018117407},\n",
        "#  {'x_xf': 1.0}\n",
        "# ]"
      ],
      "metadata": {
        "id": "nvZwHU6jOJie"
      },
      "execution_count": 7,
      "outputs": []
    },
    {
      "cell_type": "code",
      "source": [
        ""
      ],
      "metadata": {
        "id": "nux-Z7wrP1gq"
      },
      "execution_count": null,
      "outputs": []
    }
  ]
}