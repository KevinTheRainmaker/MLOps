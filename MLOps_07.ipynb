{
  "nbformat": 4,
  "nbformat_minor": 0,
  "metadata": {
    "colab": {
      "name": "MLOps_07.ipynb",
      "provenance": [],
      "collapsed_sections": [],
      "authorship_tag": "ABX9TyPaT+np8n//dYXX7lSYtyx9",
      "include_colab_link": true
    },
    "kernelspec": {
      "name": "python3",
      "display_name": "Python 3"
    },
    "language_info": {
      "name": "python"
    }
  },
  "cells": [
    {
      "cell_type": "markdown",
      "metadata": {
        "id": "view-in-github",
        "colab_type": "text"
      },
      "source": [
        "<a href=\"https://colab.research.google.com/github/KevinTheRainmaker/MLOps/blob/main/MLOps_07.ipynb\" target=\"_parent\"><img src=\"https://colab.research.google.com/assets/colab-badge.svg\" alt=\"Open In Colab\"/></a>"
      ]
    },
    {
      "cell_type": "markdown",
      "source": [
        "#데이터 전처리 using TFT"
      ],
      "metadata": {
        "id": "1dWH52C0zYpK"
      }
    },
    {
      "cell_type": "code",
      "execution_count": null,
      "metadata": {
        "colab": {
          "base_uri": "https://localhost:8080/"
        },
        "id": "bxcHQ7WayyT1",
        "outputId": "1a388b28-d498-423f-9598-65f002191045"
      },
      "outputs": [
        {
          "output_type": "stream",
          "name": "stdout",
          "text": [
            "\u001b[31mERROR: pip's dependency resolver does not currently take into account all the packages that are installed. This behaviour is the source of the following dependency conflicts.\n",
            "multiprocess 0.70.12.2 requires dill>=0.3.4, but you have dill 0.3.1.1 which is incompatible.\n",
            "google-colab 1.0.0 requires requests~=2.23.0, but you have requests 2.27.0 which is incompatible.\u001b[0m\n"
          ]
        }
      ],
      "source": [
        "!pip install -q tensorflow-transform"
      ]
    },
    {
      "cell_type": "code",
      "source": [
        "import tensorflow_transform as tft\n",
        "\n",
        "def preprocessing_fn(inputs):\n",
        "  x = inputs['x']\n",
        "  x_normalized = tft.scale_to_0_1(x)\n",
        "\n",
        "  return {\n",
        "      'x_xf': x_normalized\n",
        "  }"
      ],
      "metadata": {
        "id": "cueWQrNw0brp"
      },
      "execution_count": null,
      "outputs": []
    },
    {
      "cell_type": "code",
      "source": [
        "import tensorflow as tf\n",
        "\n",
        "def preprocessing_fn(raw_image):\n",
        "  raw_image = tf.reshape(raw_image, [-1])\n",
        "\n",
        "  # JPEG Decoding\n",
        "  img_rgb = tf.io.decode_jpeg(raw_image, channels=3)\n",
        "\n",
        "  # RGB to Gray\n",
        "  img_gray = tf.image.rgb_to_grayscale(img_rgb)\n",
        "  img = tf.image.convert_image_dtype(img_gray, tf.float32)\n",
        "\n",
        "  # Re-sizing the image to 300*300\n",
        "  resized_img = tf.image.resize_with_pad(\n",
        "      img,\n",
        "      target_height=300,\n",
        "      target_width=300\n",
        "  )\n",
        "\n",
        "  img_grayscale = tf.image.rgb_to_grayscale(resized_img)\n",
        "\n",
        "  return tf.reshape(img_grayscale, [-1, 300, 300, 1])"
      ],
      "metadata": {
        "id": "uNhW_M_72eb5"
      },
      "execution_count": null,
      "outputs": []
    },
    {
      "cell_type": "code",
      "source": [
        ""
      ],
      "metadata": {
        "id": "1d_VXF0fKqFq"
      },
      "execution_count": null,
      "outputs": []
    }
  ]
}