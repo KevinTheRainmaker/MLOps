{
  "nbformat": 4,
  "nbformat_minor": 0,
  "metadata": {
    "colab": {
      "name": "GCP_MLOps_Feast.ipynb",
      "provenance": [],
      "authorship_tag": "ABX9TyO3ZkwLw+XFBNYl2DTMqbAp",
      "include_colab_link": true
    },
    "kernelspec": {
      "name": "python3",
      "display_name": "Python 3"
    },
    "language_info": {
      "name": "python"
    }
  },
  "cells": [
    {
      "cell_type": "markdown",
      "metadata": {
        "id": "view-in-github",
        "colab_type": "text"
      },
      "source": [
        "<a href=\"https://colab.research.google.com/github/KevinTheRainmaker/MLOps/blob/main/MLOps_in_Cloud/GCP_MLOps_Feast.ipynb\" target=\"_parent\"><img src=\"https://colab.research.google.com/assets/colab-badge.svg\" alt=\"Open In Colab\"/></a>"
      ]
    },
    {
      "cell_type": "code",
      "execution_count": 1,
      "metadata": {
        "colab": {
          "base_uri": "https://localhost:8080/"
        },
        "id": "AQdvW9wiHHAT",
        "outputId": "aaa08bfe-2c85-426d-dab1-3a370c733596"
      },
      "outputs": [
        {
          "output_type": "stream",
          "name": "stdout",
          "text": [
            "Feast SDK Version: \"feast 0.17.0\"\n"
          ]
        }
      ],
      "source": [
        "!pip install -q feast['gcp']\n",
        "!feast version"
      ]
    },
    {
      "cell_type": "code",
      "source": [
        "from google.colab import auth\n",
        "auth.authenticate_user()"
      ],
      "metadata": {
        "id": "BdF5gcS8HUI_"
      },
      "execution_count": 2,
      "outputs": []
    },
    {
      "cell_type": "code",
      "source": [
        "import dill\n",
        "dill.extend(use_dill=False)"
      ],
      "metadata": {
        "id": "l1kl5oEdH42q"
      },
      "execution_count": 3,
      "outputs": []
    },
    {
      "cell_type": "code",
      "source": [
        "PROJECT_ID= \"gcp-mlops-feast-project-340215\"\n",
        "BUCKET_NAME= \"gcp-mlops-feast-project-340215.appspot.com\"\n",
        "BIGQUERY_DATASET_NAME=\"gcp_mlops_feast_dataset\"\n",
        "AI_PLATFORM_MODEL_NAME=\"gcp_mlops_feast_model\"\n",
        "\n",
        "! gcloud config set project $PROJECT_ID\n",
        "%env GOOGLE_CLOUD_PROJECT=$PROJECT_ID\n",
        "!echo project_id = $PROJECT_ID > ~/.bigqueryrc"
      ],
      "metadata": {
        "colab": {
          "base_uri": "https://localhost:8080/"
        },
        "id": "iwYwTC5jIHu5",
        "outputId": "06d0b930-1eaf-44c4-9cc0-c25f1dff2f40"
      },
      "execution_count": 4,
      "outputs": [
        {
          "output_type": "stream",
          "name": "stdout",
          "text": [
            "Updated property [core/project].\n",
            "env: GOOGLE_CLOUD_PROJECT=gcp-mlops-feast-project-340215\n"
          ]
        }
      ]
    },
    {
      "cell_type": "code",
      "source": [
        "! bq mk $BIGQUERY_DATASET_NAME"
      ],
      "metadata": {
        "colab": {
          "base_uri": "https://localhost:8080/"
        },
        "id": "pp-6KHpkNe6Q",
        "outputId": "35858430-0f01-4bfe-aa4d-1f60e01591a7"
      },
      "execution_count": 5,
      "outputs": [
        {
          "output_type": "stream",
          "name": "stdout",
          "text": [
            "Dataset 'gcp-mlops-feast-project-340215:gcp_mlops_feast_dataset' successfully created.\n"
          ]
        }
      ]
    },
    {
      "cell_type": "code",
      "source": [
        "! feast init fraud_tutorial -t gcp\n",
        "%cd fraud_tutorial/\n",
        "! ls"
      ],
      "metadata": {
        "colab": {
          "base_uri": "https://localhost:8080/"
        },
        "id": "2o_tsPj0Ofzy",
        "outputId": "a927af0c-c0a9-40d8-a977-fe4e38ec7b3b"
      },
      "execution_count": 6,
      "outputs": [
        {
          "output_type": "stream",
          "name": "stdout",
          "text": [
            "\n",
            "Creating a new Feast repository in \u001b[1m\u001b[32m/content/fraud_tutorial\u001b[0m.\n",
            "\n",
            "/content/fraud_tutorial\n",
            "driver_repo.py\tfeature_store.yaml  test.py\n"
          ]
        }
      ]
    },
    {
      "cell_type": "code",
      "source": [
        "feature_store = \\\n",
        "f\"\"\"project: fraud_tutorial\n",
        "registry: gs://{BUCKET_NAME}/registry.db\n",
        "provider: gcp\"\"\"\n",
        "\n",
        "with open('feature_store.yaml', \"w\") as feature_store_file:\n",
        "    feature_store_file.write(feature_store)\n",
        "\n",
        "# Print our feature_store.yaml\n",
        "! cat feature_store.yaml"
      ],
      "metadata": {
        "colab": {
          "base_uri": "https://localhost:8080/"
        },
        "id": "aGL2Zz_0O1-R",
        "outputId": "54fed7e3-6eb6-480b-975b-ddb050c1d89e"
      },
      "execution_count": 7,
      "outputs": [
        {
          "output_type": "stream",
          "name": "stdout",
          "text": [
            "project: fraud_tutorial\n",
            "registry: gs://gcp-mlops-feast-project-340215.appspot.com/registry.db\n",
            "provider: gcp"
          ]
        }
      ]
    },
    {
      "cell_type": "code",
      "source": [
        "!feast apply"
      ],
      "metadata": {
        "colab": {
          "base_uri": "https://localhost:8080/"
        },
        "id": "O9LWAHb6Prmw",
        "outputId": "f58a38fa-48d2-405f-8f22-09cc9cc54ad3"
      },
      "execution_count": 8,
      "outputs": [
        {
          "output_type": "stream",
          "name": "stdout",
          "text": [
            "Created entity \u001b[1m\u001b[32mdriver_id\u001b[0m\n",
            "Created feature view \u001b[1m\u001b[32mdriver_hourly_stats\u001b[0m\n"
          ]
        }
      ]
    },
    {
      "cell_type": "code",
      "source": [
        ""
      ],
      "metadata": {
        "id": "CJbjF4CDQJUu"
      },
      "execution_count": null,
      "outputs": []
    }
  ]
}