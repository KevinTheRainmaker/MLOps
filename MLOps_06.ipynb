{
  "nbformat": 4,
  "nbformat_minor": 0,
  "metadata": {
    "colab": {
      "name": "MLOps_06.ipynb",
      "provenance": [],
      "authorship_tag": "ABX9TyOElXK8LZSDAAT7ahkWFfzA",
      "include_colab_link": true
    },
    "kernelspec": {
      "name": "python3",
      "display_name": "Python 3"
    },
    "language_info": {
      "name": "python"
    }
  },
  "cells": [
    {
      "cell_type": "markdown",
      "metadata": {
        "id": "view-in-github",
        "colab_type": "text"
      },
      "source": [
        "<a href=\"https://colab.research.google.com/github/KevinTheRainmaker/MLOps/blob/main/MLOps_06.ipynb\" target=\"_parent\"><img src=\"https://colab.research.google.com/assets/colab-badge.svg\" alt=\"Open In Colab\"/></a>"
      ]
    },
    {
      "cell_type": "markdown",
      "source": [
        "# GCP를 사용한 대용량 데이터셋 처리"
      ],
      "metadata": {
        "id": "8dRp0DSI2M2p"
      }
    },
    {
      "cell_type": "code",
      "source": [
        "# cloud storage client library 설치\n",
        "!pip install -q --upgrade google-cloud-storage"
      ],
      "metadata": {
        "colab": {
          "base_uri": "https://localhost:8080/"
        },
        "id": "68QwZHLe2anZ",
        "outputId": "9b115c14-e86f-4014-cf2e-8fac7d706787"
      },
      "execution_count": null,
      "outputs": [
        {
          "output_type": "stream",
          "name": "stdout",
          "text": [
            "\u001b[?25l\r\u001b[K     |███                             | 10 kB 36.2 MB/s eta 0:00:01\r\u001b[K     |██████▏                         | 20 kB 42.1 MB/s eta 0:00:01\r\u001b[K     |█████████▏                      | 30 kB 30.4 MB/s eta 0:00:01\r\u001b[K     |████████████▎                   | 40 kB 21.7 MB/s eta 0:00:01\r\u001b[K     |███████████████▍                | 51 kB 8.0 MB/s eta 0:00:01\r\u001b[K     |██████████████████▍             | 61 kB 9.0 MB/s eta 0:00:01\r\u001b[K     |█████████████████████▌          | 71 kB 7.5 MB/s eta 0:00:01\r\u001b[K     |████████████████████████▋       | 81 kB 8.4 MB/s eta 0:00:01\r\u001b[K     |███████████████████████████▋    | 92 kB 8.4 MB/s eta 0:00:01\r\u001b[K     |██████████████████████████████▊ | 102 kB 9.2 MB/s eta 0:00:01\r\u001b[K     |████████████████████████████████| 106 kB 9.2 MB/s \n",
            "\u001b[K     |████████████████████████████████| 109 kB 73.5 MB/s \n",
            "\u001b[K     |████████████████████████████████| 75 kB 5.3 MB/s \n",
            "\u001b[31mERROR: pip's dependency resolver does not currently take into account all the packages that are installed. This behaviour is the source of the following dependency conflicts.\n",
            "google-cloud-translate 1.5.0 requires google-api-core[grpc]<2.0.0dev,>=1.6.0, but you have google-api-core 2.3.2 which is incompatible.\n",
            "google-cloud-translate 1.5.0 requires google-cloud-core<2.0dev,>=1.0.0, but you have google-cloud-core 2.2.1 which is incompatible.\n",
            "google-cloud-language 1.2.0 requires google-api-core[grpc]<2.0.0dev,>=1.6.0, but you have google-api-core 2.3.2 which is incompatible.\n",
            "google-cloud-firestore 1.7.0 requires google-api-core[grpc]<2.0.0dev,>=1.14.0, but you have google-api-core 2.3.2 which is incompatible.\n",
            "google-cloud-firestore 1.7.0 requires google-cloud-core<2.0dev,>=1.0.3, but you have google-cloud-core 2.2.1 which is incompatible.\n",
            "google-cloud-datastore 1.8.0 requires google-api-core[grpc]<2.0.0dev,>=1.6.0, but you have google-api-core 2.3.2 which is incompatible.\n",
            "google-cloud-datastore 1.8.0 requires google-cloud-core<2.0dev,>=1.0.0, but you have google-cloud-core 2.2.1 which is incompatible.\n",
            "google-cloud-bigquery 1.21.0 requires google-cloud-core<2.0dev,>=1.0.3, but you have google-cloud-core 2.2.1 which is incompatible.\n",
            "google-cloud-bigquery 1.21.0 requires google-resumable-media!=0.4.0,<0.5.0dev,>=0.3.1, but you have google-resumable-media 2.1.0 which is incompatible.\n",
            "google-cloud-bigquery-storage 1.1.0 requires google-api-core[grpc]<2.0.0dev,>=1.14.0, but you have google-api-core 2.3.2 which is incompatible.\n",
            "google-api-python-client 1.12.8 requires google-api-core<2dev,>=1.21.0, but you have google-api-core 2.3.2 which is incompatible.\n",
            "firebase-admin 4.4.0 requires google-api-core[grpc]<2.0.0dev,>=1.14.0; platform_python_implementation != \"PyPy\", but you have google-api-core 2.3.2 which is incompatible.\u001b[0m\n",
            "\u001b[?25h"
          ]
        }
      ]
    },
    {
      "cell_type": "code",
      "source": [
        "!pip install -q apache_beam"
      ],
      "metadata": {
        "colab": {
          "base_uri": "https://localhost:8080/"
        },
        "id": "1VpmN5h424wE",
        "outputId": "486f286c-3407-4526-df0e-7baf404e8d12"
      },
      "execution_count": null,
      "outputs": [
        {
          "output_type": "stream",
          "name": "stdout",
          "text": [
            "\u001b[K     |████████████████████████████████| 9.9 MB 6.5 MB/s \n",
            "\u001b[K     |████████████████████████████████| 2.3 MB 81.0 MB/s \n",
            "\u001b[K     |████████████████████████████████| 62 kB 1.1 MB/s \n",
            "\u001b[K     |████████████████████████████████| 247 kB 79.9 MB/s \n",
            "\u001b[K     |████████████████████████████████| 151 kB 55.5 MB/s \n",
            "\u001b[K     |████████████████████████████████| 45 kB 4.1 MB/s \n",
            "\u001b[K     |████████████████████████████████| 1.1 MB 64.7 MB/s \n",
            "\u001b[?25h  Building wheel for dill (setup.py) ... \u001b[?25l\u001b[?25hdone\n",
            "\u001b[31mERROR: pip's dependency resolver does not currently take into account all the packages that are installed. This behaviour is the source of the following dependency conflicts.\n",
            "multiprocess 0.70.12.2 requires dill>=0.3.4, but you have dill 0.3.1.1 which is incompatible.\n",
            "google-colab 1.0.0 requires requests~=2.23.0, but you have requests 2.26.0 which is incompatible.\n",
            "google-cloud-bigquery 1.21.0 requires google-cloud-core<2.0dev,>=1.0.3, but you have google-cloud-core 2.2.1 which is incompatible.\n",
            "google-cloud-bigquery 1.21.0 requires google-resumable-media!=0.4.0,<0.5.0dev,>=0.3.1, but you have google-resumable-media 2.1.0 which is incompatible.\n",
            "firebase-admin 4.4.0 requires google-api-core[grpc]<2.0.0dev,>=1.14.0; platform_python_implementation != \"PyPy\", but you have google-api-core 2.3.2 which is incompatible.\n",
            "datascience 0.10.6 requires folium==0.2.1, but you have folium 0.8.3 which is incompatible.\u001b[0m\n"
          ]
        }
      ]
    },
    {
      "cell_type": "code",
      "source": [
        "!pip install -q tensorflow-data-validation"
      ],
      "metadata": {
        "colab": {
          "base_uri": "https://localhost:8080/"
        },
        "id": "erFyzvmf6Yvy",
        "outputId": "b78a5bb1-e37f-4e23-db28-877448f4ff84"
      },
      "execution_count": null,
      "outputs": [
        {
          "output_type": "stream",
          "name": "stdout",
          "text": [
            "\u001b[K     |████████████████████████████████| 1.4 MB 7.6 MB/s \n",
            "\u001b[K     |████████████████████████████████| 19.1 MB 1.2 MB/s \n",
            "\u001b[K     |████████████████████████████████| 48 kB 5.2 MB/s \n",
            "\u001b[K     |████████████████████████████████| 294 kB 79.1 MB/s \n",
            "\u001b[K     |████████████████████████████████| 144 kB 70.8 MB/s \n",
            "\u001b[K     |████████████████████████████████| 180 kB 67.3 MB/s \n",
            "\u001b[K     |████████████████████████████████| 255 kB 67.3 MB/s \n",
            "\u001b[K     |████████████████████████████████| 173 kB 56.2 MB/s \n",
            "\u001b[K     |████████████████████████████████| 171 kB 67.5 MB/s \n",
            "\u001b[K     |████████████████████████████████| 183 kB 70.9 MB/s \n",
            "\u001b[K     |████████████████████████████████| 267 kB 74.2 MB/s \n",
            "\u001b[K     |████████████████████████████████| 435 kB 74.8 MB/s \n",
            "\u001b[K     |████████████████████████████████| 110 kB 89.0 MB/s \n",
            "\u001b[K     |████████████████████████████████| 83 kB 2.7 MB/s \n",
            "\u001b[K     |████████████████████████████████| 517 kB 73.0 MB/s \n",
            "\u001b[K     |████████████████████████████████| 267 kB 72.6 MB/s \n",
            "\u001b[K     |████████████████████████████████| 267 kB 46.8 MB/s \n",
            "\u001b[K     |████████████████████████████████| 266 kB 51.1 MB/s \n",
            "\u001b[K     |████████████████████████████████| 266 kB 86.5 MB/s \n",
            "\u001b[K     |████████████████████████████████| 265 kB 98.9 MB/s \n",
            "\u001b[K     |████████████████████████████████| 259 kB 47.3 MB/s \n",
            "\u001b[K     |████████████████████████████████| 234 kB 84.5 MB/s \n",
            "\u001b[K     |████████████████████████████████| 234 kB 75.6 MB/s \n",
            "\u001b[K     |████████████████████████████████| 234 kB 85.7 MB/s \n",
            "\u001b[K     |████████████████████████████████| 232 kB 80.2 MB/s \n",
            "\u001b[K     |████████████████████████████████| 232 kB 96.4 MB/s \n",
            "\u001b[K     |████████████████████████████████| 230 kB 93.0 MB/s \n",
            "\u001b[K     |████████████████████████████████| 156 kB 92.7 MB/s \n",
            "\u001b[K     |████████████████████████████████| 156 kB 86.5 MB/s \n",
            "\u001b[K     |████████████████████████████████| 155 kB 97.5 MB/s \n",
            "\u001b[K     |████████████████████████████████| 154 kB 98.1 MB/s \n",
            "\u001b[K     |████████████████████████████████| 109 kB 19.2 MB/s \n",
            "\u001b[K     |████████████████████████████████| 95 kB 5.8 MB/s \n",
            "\u001b[K     |████████████████████████████████| 95 kB 4.4 MB/s \n",
            "\u001b[K     |████████████████████████████████| 95 kB 4.4 MB/s \n",
            "\u001b[K     |████████████████████████████████| 95 kB 4.5 MB/s \n",
            "\u001b[K     |████████████████████████████████| 94 kB 4.3 MB/s \n",
            "\u001b[K     |████████████████████████████████| 92 kB 507 kB/s \n",
            "\u001b[K     |████████████████████████████████| 92 kB 465 kB/s \n",
            "\u001b[K     |████████████████████████████████| 93 kB 1.3 MB/s \n",
            "\u001b[K     |████████████████████████████████| 503 kB 55.0 MB/s \n",
            "\u001b[K     |████████████████████████████████| 596 kB 62.1 MB/s \n",
            "\u001b[?25h  Building wheel for google-apitools (setup.py) ... \u001b[?25l\u001b[?25hdone\n",
            "  Building wheel for grpc-google-iam-v1 (setup.py) ... \u001b[?25l\u001b[?25hdone\n",
            "\u001b[31mERROR: pip's dependency resolver does not currently take into account all the packages that are installed. This behaviour is the source of the following dependency conflicts.\n",
            "google-colab 1.0.0 requires requests~=2.23.0, but you have requests 2.26.0 which is incompatible.\n",
            "google-cloud-storage 1.43.0 requires google-resumable-media<3.0dev,>=1.3.0; python_version >= \"3.6\", but you have google-resumable-media 0.4.1 which is incompatible.\u001b[0m\n"
          ]
        }
      ]
    },
    {
      "cell_type": "code",
      "source": [
        "def implicit():\n",
        "    from google.cloud import storage\n",
        "\n",
        "    # 클라이언트 생성 시 인증정보를 명시하지 않았을 경우\n",
        "    # 클라이언트 라이브러리는 환경변수에서 인증정보를 탐색한다\n",
        "    storage_client = storage.Client()\n",
        "\n",
        "    # authentificated API request 생성\n",
        "    buckets = list(storage_client.list_buckets())\n",
        "    print(buckets)"
      ],
      "metadata": {
        "id": "OdOHtOX22aJb"
      },
      "execution_count": null,
      "outputs": []
    },
    {
      "cell_type": "code",
      "execution_count": null,
      "metadata": {
        "id": "UcLYbFEI2Knv"
      },
      "outputs": [],
      "source": [
        "from apache_beam.options.pipeline_options import PipelineOptions, GoogleCloudOptions, StandardOptions\n",
        "\n",
        "options = PipelineOptions()\n",
        "google_cloud_options = options.view_as(GoogleCloudOptions)\n",
        "\n",
        "# 프로젝트 ID 설정\n",
        "google_cloud_options.project = 'YOUR_GCP_PROJECT_ID'\n",
        "\n",
        "# 작업 이름 지정\n",
        "google_cloud_options.job_name = 'YOUR_JOB_NAME'\n",
        "\n",
        "# 스테이징 및 임시 파일의 저장소 버킷 지정\n",
        "google_cloud_options.staging_location = 'gs://YOUR_GCP_BUCKET/staging'\n",
        "google_cloud_options.temp_location = 'gs://YOUR_GCP_BUCKET/tmp'\n",
        "\n",
        "options.view_as(StandardOptions).runner = 'DataflowRunner'"
      ]
    },
    {
      "cell_type": "code",
      "source": [
        "from apache_beam.options.pipeline_options import SetupOptions\n",
        "\n",
        "setup_options = options.view_as(SetupOptions)\n",
        "setup_options.extra_packages = [\n",
        "                                'PATH_TO_TFDV',\n",
        "                                '-0.22.0-cp37-cp37m-manylinux2010_x86_64.whl']"
      ],
      "metadata": {
        "id": "xuc7cq3N4wOp"
      },
      "execution_count": null,
      "outputs": []
    },
    {
      "cell_type": "code",
      "source": [
        "import tensorflow_data_validation as tfdv\n",
        "\n",
        "dataset_path = 'gs://YOUR_GCP_BUCKET/train_reviews.tfrecord'\n",
        "output_path = 'gs://YOUR_GCP_BUCKET/'\n",
        "tfdv.generate_statistics_from_tfrecord(dataset_path,\n",
        "                                       output_path=output_path,\n",
        "                                       pipeline_options=options)"
      ],
      "metadata": {
        "id": "MHSdVbet4wM3"
      },
      "execution_count": null,
      "outputs": []
    },
    {
      "cell_type": "code",
      "source": [
        ""
      ],
      "metadata": {
        "id": "is22OdcF4wKg"
      },
      "execution_count": null,
      "outputs": []
    },
    {
      "cell_type": "code",
      "source": [
        ""
      ],
      "metadata": {
        "id": "PtCcMj854wIK"
      },
      "execution_count": null,
      "outputs": []
    },
    {
      "cell_type": "code",
      "source": [
        ""
      ],
      "metadata": {
        "id": "4Y4uLhJi4wGF"
      },
      "execution_count": null,
      "outputs": []
    },
    {
      "cell_type": "code",
      "source": [
        ""
      ],
      "metadata": {
        "id": "zuUkMgGN4wEP"
      },
      "execution_count": null,
      "outputs": []
    },
    {
      "cell_type": "code",
      "source": [
        ""
      ],
      "metadata": {
        "id": "rgE4OSMy4wB5"
      },
      "execution_count": null,
      "outputs": []
    },
    {
      "cell_type": "code",
      "source": [
        ""
      ],
      "metadata": {
        "id": "t6qIWt044v_z"
      },
      "execution_count": null,
      "outputs": []
    },
    {
      "cell_type": "code",
      "source": [
        ""
      ],
      "metadata": {
        "id": "2Qz2L5r54v9u"
      },
      "execution_count": null,
      "outputs": []
    }
  ]
}