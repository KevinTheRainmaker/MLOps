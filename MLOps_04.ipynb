{
  "nbformat": 4,
  "nbformat_minor": 0,
  "metadata": {
    "colab": {
      "name": "\bMLOps_04.ipynb",
      "provenance": [],
      "collapsed_sections": [],
      "authorship_tag": "ABX9TyO4Awo7/5hRdMKB01Ow3X6C",
      "include_colab_link": true
    },
    "kernelspec": {
      "name": "python3",
      "display_name": "Python 3"
    },
    "language_info": {
      "name": "python"
    }
  },
  "cells": [
    {
      "cell_type": "markdown",
      "metadata": {
        "id": "view-in-github",
        "colab_type": "text"
      },
      "source": [
        "<a href=\"https://colab.research.google.com/github/KevinTheRainmaker/MLOps/blob/main/%08MLOps_04.ipynb\" target=\"_parent\"><img src=\"https://colab.research.google.com/assets/colab-badge.svg\" alt=\"Open In Colab\"/></a>"
      ]
    },
    {
      "cell_type": "markdown",
      "source": [
        "# 데이터 수집"
      ],
      "metadata": {
        "id": "iT-6urIt-amm"
      }
    },
    {
      "cell_type": "code",
      "source": [
        "!pip install -q tfx==1.2.0"
      ],
      "metadata": {
        "colab": {
          "base_uri": "https://localhost:8080/"
        },
        "id": "_OqXh0uf-jnb",
        "outputId": "0566deb3-b0dd-4934-97d0-4fdb13988c43"
      },
      "execution_count": 2,
      "outputs": [
        {
          "output_type": "stream",
          "name": "stdout",
          "text": [
            "\u001b[K     |████████████████████████████████| 2.4 MB 4.4 MB/s \n",
            "\u001b[K     |████████████████████████████████| 1.2 MB 36.7 MB/s \n",
            "\u001b[K     |████████████████████████████████| 147 kB 40.6 MB/s \n",
            "\u001b[K     |████████████████████████████████| 406 kB 52.2 MB/s \n",
            "\u001b[K     |████████████████████████████████| 135 kB 43.6 MB/s \n",
            "\u001b[K     |████████████████████████████████| 189 kB 43.0 MB/s \n",
            "\u001b[K     |████████████████████████████████| 9.8 MB 20.3 MB/s \n",
            "\u001b[K     |████████████████████████████████| 1.4 MB 49.8 MB/s \n",
            "\u001b[K     |████████████████████████████████| 1.7 MB 46.2 MB/s \n",
            "\u001b[K     |████████████████████████████████| 1.7 MB 27.0 MB/s \n",
            "\u001b[K     |████████████████████████████████| 454.4 MB 22 kB/s \n",
            "\u001b[K     |████████████████████████████████| 40 kB 5.0 MB/s \n",
            "\u001b[K     |████████████████████████████████| 54 kB 2.5 MB/s \n",
            "\u001b[K     |████████████████████████████████| 17.7 MB 371 kB/s \n",
            "\u001b[K     |████████████████████████████████| 1.3 MB 40.1 MB/s \n",
            "\u001b[K     |████████████████████████████████| 49 kB 5.4 MB/s \n",
            "\u001b[K     |████████████████████████████████| 6.5 MB 29.8 MB/s \n",
            "\u001b[K     |████████████████████████████████| 19.0 MB 1.3 MB/s \n",
            "\u001b[K     |████████████████████████████████| 247 kB 52.1 MB/s \n",
            "\u001b[K     |████████████████████████████████| 2.3 MB 42.6 MB/s \n",
            "\u001b[K     |████████████████████████████████| 62 kB 741 kB/s \n",
            "\u001b[K     |████████████████████████████████| 829 kB 39.7 MB/s \n",
            "\u001b[K     |████████████████████████████████| 151 kB 49.2 MB/s \n",
            "\u001b[K     |████████████████████████████████| 267 kB 58.8 MB/s \n",
            "\u001b[K     |████████████████████████████████| 83 kB 1.7 MB/s \n",
            "\u001b[K     |████████████████████████████████| 171 kB 52.7 MB/s \n",
            "\u001b[K     |████████████████████████████████| 169 kB 56.7 MB/s \n",
            "\u001b[K     |████████████████████████████████| 180 kB 66.3 MB/s \n",
            "\u001b[K     |████████████████████████████████| 183 kB 48.1 MB/s \n",
            "\u001b[K     |████████████████████████████████| 255 kB 54.8 MB/s \n",
            "\u001b[K     |████████████████████████████████| 173 kB 57.4 MB/s \n",
            "\u001b[K     |████████████████████████████████| 435 kB 5.7 MB/s \n",
            "\u001b[K     |████████████████████████████████| 144 kB 66.4 MB/s \n",
            "\u001b[K     |████████████████████████████████| 53 kB 1.9 MB/s \n",
            "\u001b[K     |████████████████████████████████| 45 kB 2.8 MB/s \n",
            "\u001b[K     |████████████████████████████████| 106 kB 66.2 MB/s \n",
            "\u001b[K     |████████████████████████████████| 75 kB 4.2 MB/s \n",
            "\u001b[K     |████████████████████████████████| 188 kB 50.5 MB/s \n",
            "\u001b[K     |████████████████████████████████| 188 kB 43.2 MB/s \n",
            "\u001b[K     |████████████████████████████████| 171 kB 41.6 MB/s \n",
            "\u001b[K     |████████████████████████████████| 170 kB 56.3 MB/s \n",
            "\u001b[K     |████████████████████████████████| 517 kB 36.5 MB/s \n",
            "\u001b[K     |████████████████████████████████| 105 kB 50.4 MB/s \n",
            "\u001b[K     |████████████████████████████████| 105 kB 56.3 MB/s \n",
            "\u001b[K     |████████████████████████████████| 105 kB 55.1 MB/s \n",
            "\u001b[K     |████████████████████████████████| 105 kB 56.5 MB/s \n",
            "\u001b[K     |████████████████████████████████| 105 kB 69.9 MB/s \n",
            "\u001b[K     |████████████████████████████████| 636 kB 48.2 MB/s \n",
            "\u001b[K     |████████████████████████████████| 1.1 MB 34.9 MB/s \n",
            "\u001b[K     |████████████████████████████████| 4.0 MB 47.8 MB/s \n",
            "\u001b[K     |████████████████████████████████| 462 kB 45.6 MB/s \n",
            "\u001b[K     |████████████████████████████████| 1.2 MB 32.2 MB/s \n",
            "\u001b[K     |████████████████████████████████| 294 kB 62.2 MB/s \n",
            "\u001b[K     |████████████████████████████████| 48 kB 4.8 MB/s \n",
            "\u001b[K     |████████████████████████████████| 791 kB 28.0 MB/s \n",
            "\u001b[K     |████████████████████████████████| 374 kB 46.7 MB/s \n",
            "\u001b[?25h  Building wheel for avro-python3 (setup.py) ... \u001b[?25l\u001b[?25hdone\n",
            "  Building wheel for dill (setup.py) ... \u001b[?25l\u001b[?25hdone\n",
            "  Building wheel for future (setup.py) ... \u001b[?25l\u001b[?25hdone\n",
            "  Building wheel for google-apitools (setup.py) ... \u001b[?25l\u001b[?25hdone\n",
            "  Building wheel for grpc-google-iam-v1 (setup.py) ... \u001b[?25l\u001b[?25hdone\n",
            "  Building wheel for keras-tuner (setup.py) ... \u001b[?25l\u001b[?25hdone\n",
            "  Building wheel for wrapt (setup.py) ... \u001b[?25l\u001b[?25hdone\n",
            "\u001b[31mERROR: pip's dependency resolver does not currently take into account all the packages that are installed. This behaviour is the source of the following dependency conflicts.\n",
            "pandas-gbq 0.13.3 requires google-cloud-bigquery[bqstorage,pandas]<2.0.0dev,>=1.11.1, but you have google-cloud-bigquery 2.18.0 which is incompatible.\n",
            "multiprocess 0.70.12.2 requires dill>=0.3.4, but you have dill 0.3.1.1 which is incompatible.\n",
            "jupyter-console 5.2.0 requires prompt-toolkit<2.0.0,>=1.0.0, but you have prompt-toolkit 3.0.24 which is incompatible.\n",
            "google-colab 1.0.0 requires ipython~=5.5.0, but you have ipython 7.30.1 which is incompatible.\n",
            "google-colab 1.0.0 requires requests~=2.23.0, but you have requests 2.26.0 which is incompatible.\n",
            "datascience 0.10.6 requires folium==0.2.1, but you have folium 0.8.3 which is incompatible.\u001b[0m\n"
          ]
        }
      ]
    },
    {
      "cell_type": "code",
      "execution_count": 1,
      "metadata": {
        "id": "76o7qZ2Z-Xt6"
      },
      "outputs": [],
      "source": [
        "import os\n",
        "\n",
        "from tfx.orchestration.experimental.interactive.interactive_context import InteractiveContext\n",
        "from tfx.components import CsvExampleGen\n",
        "from tfx.proto import example_gen_pb2\n",
        "\n",
        "context = InteractiveContext()\n",
        "\n",
        "dir_path = os.getcwd()\n",
        "data_dir = os.path.join(dir_path, \"..\", \"..\", \"data\", \"taxi\")\n",
        "output = example_gen_pb2.Output(\n",
        "    # 분할 정의\n",
        "    split_config = example_gen_pb2.SplitConfig.Split(splits=[\n",
        "         # 비율 지정\n",
        "          example_gen_pb2.SplitConfig.Split(name='train', hash_buckets=6),                                              \n",
        "          example_gen_pb2.SplitConfig.Split(name='eval', hash_buckets=2),                                              \n",
        "          example_gen_pb2.SplitConfig.Split(name='test', hash_buckets=2)                                            \n",
        "    ])\n",
        ")\n",
        "\n",
        "# output_config 파라미터 추가\n",
        "example_gen = CsvExampleGen(input_base=data_dir, output_config=output)\n",
        "\n",
        "context.run(example_gen)\n",
        "\n",
        "for artifact in example_gen.outputs['examples'].get():\n",
        "  print(artifact)"
      ]
    },
    {
      "cell_type": "code",
      "source": [
        "import os\n",
        "\n",
        "from tfx.orchestration.experimental.interactive.interactive_context import InteractiveContext\n",
        "from tfx.components import CsvExampleGen\n",
        "from tfx.proto import example_gen_pb2\n",
        "\n",
        "context = InteractiveContext()\n",
        "\n",
        "dir_path = os.getcwd()\n",
        "data_dir = os.path.join(dir_path, \"..\", \"..\", \"data\", \"tfrecord\")\n",
        "\n",
        "tfrecord_filename = \"consumer-complaints.tfrecord\"\n",
        "tfrecord_filepath = os.path.join(data_dir, tfrecord_filename)\n",
        "\n",
        "# 기존 하위 디렉터리 설정\n",
        "input = example_gen_pb2.Input(splits=[\n",
        "          example_gen_pb2.SplitConfig.Split(name='train', pattern='train/*'),                                              \n",
        "          example_gen_pb2.SplitConfig.Split(name='eval', pattern='eval/*'),                                              \n",
        "          example_gen_pb2.SplitConfig.Split(name='test', pattern='test/*')\n",
        "])\n",
        "\n",
        "# input_config 파라미터 추가\n",
        "example_gen = CsvExampleGen(input_base=data_dir, input_config=input)\n",
        "\n",
        "context.run(example_gen)"
      ],
      "metadata": {
        "id": "Q0ZOGoxq-dYR"
      },
      "execution_count": null,
      "outputs": []
    },
    {
      "cell_type": "code",
      "source": [
        "import os\n",
        "\n",
        "from tfx.orchestration.experimental.interactive.interactive_context import InteractiveContext\n",
        "from tfx.components import CsvExampleGen\n",
        "from tfx.proto import example_gen_pb2\n",
        "\n",
        "context = InteractiveContext()\n",
        "\n",
        "base_dir = os.getcwd()\n",
        "data_dir = os.path.join(os.pardir, \"data\")\n",
        "input_dir = os.path.join(base_dir, data_dir)\n",
        "\n",
        "input = example_gen_pb2.Input(splits=[\n",
        "      example_gen_pb2.Input.Split(pattern='export-{SPAN}/*')\n",
        "])\n",
        "\n",
        "example_gen = CsvExampleGen(input_base=input_dir, input_config=input)\n",
        "\n",
        "context.run(example_gen)"
      ],
      "metadata": {
        "id": "W4Dk5S8iEAPr"
      },
      "execution_count": null,
      "outputs": []
    },
    {
      "cell_type": "code",
      "source": [
        ""
      ],
      "metadata": {
        "id": "x37EDwsyG8YK"
      },
      "execution_count": null,
      "outputs": []
    }
  ]
}